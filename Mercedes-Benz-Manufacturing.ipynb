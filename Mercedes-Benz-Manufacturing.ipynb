{
 "cells": [
  {
   "cell_type": "markdown",
   "metadata": {},
   "source": [
    "# Mercedes-Benz Greener Manufacturing"
   ]
  },
  {
   "cell_type": "markdown",
   "metadata": {},
   "source": [
    "## Problem Statement Scenario:\n",
    "Since the first automobile, the Benz Patent Motor Car in 1886, Mercedes-Benz has stood for important automotive innovations. These include the passenger safety cell with a crumple zone, the airbag, and intelligent assistance systems. Mercedes-Benz applies for nearly 2000 patents per year, making the brand the European leader among premium carmakers. Mercedes-Benz is the leader in the premium car industry. With a huge selection of features and options, customers can choose the customized Mercedes-Benz of their dreams.\n",
    "\n",
    "To ensure the safety and reliability of every unique car configuration before they hit the road, the company’s engineers have developed a robust testing system. As one of the world’s biggest manufacturers of premium cars, safety and efficiency are paramount on Mercedes-Benz’s production lines. However, optimizing the speed of their testing system for many possible feature combinations is complex and time-consuming without a powerful algorithmic approach.\n",
    "\n",
    "You are required to reduce the time that cars spend on the test bench. Others will work with a dataset representing different permutations of features in a Mercedes-Benz car to predict the time it takes to pass testing. Optimal algorithms will contribute to faster testing, resulting in lower carbon dioxide emissions without reducing Mercedes-Benz’s standards.\n",
    "\n"
   ]
  },
  {
   "cell_type": "markdown",
   "metadata": {},
   "source": [
    "For this project, the challenges are to tackle the curse of dimensionality and reduce the time that cars spend on the test bench. \n",
    "I works with a dataset representing different permutations of Mercedes-Benz car features to predict the time it takes to pass testing. "
   ]
  },
  {
   "cell_type": "markdown",
   "metadata": {},
   "source": [
    "##### Models are evaluated on the R^2 value, also called the coefficient of determination."
   ]
  },
  {
   "cell_type": "markdown",
   "metadata": {},
   "source": [
    "### Following actions are performed:\n",
    "- If for any column(s), the variance is equal to zero, then you need to remove those variable(s).\n",
    "- Check for null and unique values for test and train sets.\n",
    "- Apply label encoder.\n",
    "- Perform dimensionality reduction.\n",
    "- Predict your test_df values using XGBoost."
   ]
  },
  {
   "cell_type": "markdown",
   "metadata": {},
   "source": [
    "### Data Description:\n",
    "This dataset contains an anonymized set of variables, each representing a custom feature in a Mercedes car. For example, a variable could be 4WD, added air suspension, or a head-up display. \n",
    "\n",
    "The ground truth is labeled ‘y’ and represents the time (in seconds) that the car took to pass testing for each variable.\n",
    "\n",
    "### File descriptions:\n",
    "Variables with letters are categorical. Variables with 0/1 are binary values.\n",
    "\n",
    "- train.csv: the training set\n",
    "- test.csv: the test set, you must predict the 'y' variable for the 'ID's in this file\n"
   ]
  },
  {
   "cell_type": "code",
   "execution_count": 28,
   "metadata": {},
   "outputs": [],
   "source": [
    "import pandas as pd\n",
    "import numpy as np"
   ]
  },
  {
   "cell_type": "code",
   "execution_count": 29,
   "metadata": {},
   "outputs": [
    {
     "name": "stdout",
     "output_type": "stream",
     "text": [
      "(4209, 378)\n"
     ]
    }
   ],
   "source": [
    "merc_train = pd.read_csv('./Dataset for the project/train.csv')\n",
    "merc_train.head()\n",
    "print(merc_train.shape)"
   ]
  },
  {
   "cell_type": "code",
   "execution_count": 30,
   "metadata": {},
   "outputs": [
    {
     "data": {
      "text/plain": [
       "Index(['ID', 'y', 'X0', 'X1', 'X2', 'X3', 'X4', 'X5', 'X6', 'X8',\n",
       "       ...\n",
       "       'X375', 'X376', 'X377', 'X378', 'X379', 'X380', 'X382', 'X383', 'X384',\n",
       "       'X385'],\n",
       "      dtype='object', length=378)"
      ]
     },
     "execution_count": 30,
     "metadata": {},
     "output_type": "execute_result"
    }
   ],
   "source": [
    "merc_train.columns"
   ]
  },
  {
   "cell_type": "code",
   "execution_count": 31,
   "metadata": {},
   "outputs": [
    {
     "name": "stdout",
     "output_type": "stream",
     "text": [
      "<class 'pandas.core.frame.DataFrame'>\n",
      "RangeIndex: 4209 entries, 0 to 4208\n",
      "Columns: 378 entries, ID to X385\n",
      "dtypes: float64(1), int64(369), object(8)\n",
      "memory usage: 12.1+ MB\n"
     ]
    }
   ],
   "source": [
    "merc_train.info()"
   ]
  },
  {
   "cell_type": "markdown",
   "metadata": {},
   "source": [
    "## Data Wrangling\n",
    "- #### Check for variance of the columns, and drop those columns from the data\n",
    "- #### Check for null and unique values for train set"
   ]
  },
  {
   "cell_type": "code",
   "execution_count": 32,
   "metadata": {},
   "outputs": [],
   "source": [
    "def var_zero_cols(df):\n",
    "    var_df=pd.DataFrame(df.var(),columns=['Variance'])\n",
    "    return(list(var_df[var_df.Variance==0].index))"
   ]
  },
  {
   "cell_type": "code",
   "execution_count": 33,
   "metadata": {},
   "outputs": [
    {
     "data": {
      "text/plain": [
       "['X11',\n",
       " 'X93',\n",
       " 'X107',\n",
       " 'X233',\n",
       " 'X235',\n",
       " 'X268',\n",
       " 'X289',\n",
       " 'X290',\n",
       " 'X293',\n",
       " 'X297',\n",
       " 'X330',\n",
       " 'X347']"
      ]
     },
     "execution_count": 33,
     "metadata": {},
     "output_type": "execute_result"
    }
   ],
   "source": [
    "var_zero_cols(merc_train)"
   ]
  },
  {
   "cell_type": "code",
   "execution_count": 34,
   "metadata": {},
   "outputs": [],
   "source": [
    "var_df=pd.DataFrame(merc_train.var(),columns=['Variance'])"
   ]
  },
  {
   "cell_type": "code",
   "execution_count": 35,
   "metadata": {},
   "outputs": [
    {
     "data": {
      "text/plain": [
       "(4209, 366)"
      ]
     },
     "execution_count": 35,
     "metadata": {},
     "output_type": "execute_result"
    }
   ],
   "source": [
    "# Above columns have zero variance, so dropping them from the data\n",
    "merc_train.drop(columns=list(var_df[var_df.Variance==0].index),inplace=True)\n",
    "merc_train.shape"
   ]
  },
  {
   "cell_type": "code",
   "execution_count": 36,
   "metadata": {},
   "outputs": [
    {
     "data": {
      "text/html": [
       "<div>\n",
       "<style scoped>\n",
       "    .dataframe tbody tr th:only-of-type {\n",
       "        vertical-align: middle;\n",
       "    }\n",
       "\n",
       "    .dataframe tbody tr th {\n",
       "        vertical-align: top;\n",
       "    }\n",
       "\n",
       "    .dataframe thead th {\n",
       "        text-align: right;\n",
       "    }\n",
       "</style>\n",
       "<table border=\"1\" class=\"dataframe\">\n",
       "  <thead>\n",
       "    <tr style=\"text-align: right;\">\n",
       "      <th></th>\n",
       "      <th>uniqueCount</th>\n",
       "    </tr>\n",
       "  </thead>\n",
       "  <tbody>\n",
       "    <tr>\n",
       "      <td>X10</td>\n",
       "      <td>2</td>\n",
       "    </tr>\n",
       "    <tr>\n",
       "      <td>X12</td>\n",
       "      <td>2</td>\n",
       "    </tr>\n",
       "    <tr>\n",
       "      <td>X13</td>\n",
       "      <td>2</td>\n",
       "    </tr>\n",
       "    <tr>\n",
       "      <td>X14</td>\n",
       "      <td>2</td>\n",
       "    </tr>\n",
       "    <tr>\n",
       "      <td>X15</td>\n",
       "      <td>2</td>\n",
       "    </tr>\n",
       "    <tr>\n",
       "      <td>...</td>\n",
       "      <td>...</td>\n",
       "    </tr>\n",
       "    <tr>\n",
       "      <td>X380</td>\n",
       "      <td>2</td>\n",
       "    </tr>\n",
       "    <tr>\n",
       "      <td>X382</td>\n",
       "      <td>2</td>\n",
       "    </tr>\n",
       "    <tr>\n",
       "      <td>X383</td>\n",
       "      <td>2</td>\n",
       "    </tr>\n",
       "    <tr>\n",
       "      <td>X384</td>\n",
       "      <td>2</td>\n",
       "    </tr>\n",
       "    <tr>\n",
       "      <td>X385</td>\n",
       "      <td>2</td>\n",
       "    </tr>\n",
       "  </tbody>\n",
       "</table>\n",
       "<p>356 rows × 1 columns</p>\n",
       "</div>"
      ],
      "text/plain": [
       "      uniqueCount\n",
       "X10             2\n",
       "X12             2\n",
       "X13             2\n",
       "X14             2\n",
       "X15             2\n",
       "...           ...\n",
       "X380            2\n",
       "X382            2\n",
       "X383            2\n",
       "X384            2\n",
       "X385            2\n",
       "\n",
       "[356 rows x 1 columns]"
      ]
     },
     "execution_count": 36,
     "metadata": {},
     "output_type": "execute_result"
    }
   ],
   "source": [
    "# Check for null and unique values for train set\n",
    "train_nullcheck_df=pd.DataFrame(merc_train.isna().any(),columns=['IsNull'])\n",
    "train_nullcheck_df[train_nullcheck_df.IsNull==True]\n",
    "train_merc_ucnt=pd.DataFrame(merc_train.nunique(),columns=['uniqueCount'])\n",
    "train_merc_ucnt[train_merc_ucnt.uniqueCount>2]\n",
    "train_merc_ucnt[train_merc_ucnt.uniqueCount<=2]"
   ]
  },
  {
   "cell_type": "markdown",
   "metadata": {},
   "source": [
    "#### All the above columns X0 to X8 are categorical data, so we need to transform them into numerical. Before that Lets look at categorical data and plot them to observe the impact on outcome"
   ]
  },
  {
   "cell_type": "markdown",
   "metadata": {},
   "source": [
    "### Analyzing feature X0"
   ]
  },
  {
   "cell_type": "code",
   "execution_count": 38,
   "metadata": {},
   "outputs": [
    {
     "data": {
      "text/plain": [
       "z     360\n",
       "ak    349\n",
       "y     324\n",
       "ay    313\n",
       "t     306\n",
       "x     300\n",
       "o     269\n",
       "f     227\n",
       "n     195\n",
       "w     182\n",
       "j     181\n",
       "az    175\n",
       "aj    151\n",
       "s     106\n",
       "ap    103\n",
       "h      75\n",
       "d      73\n",
       "al     67\n",
       "v      36\n",
       "af     35\n",
       "m      34\n",
       "ai     34\n",
       "e      32\n",
       "ba     27\n",
       "at     25\n",
       "a      21\n",
       "ax     19\n",
       "i      18\n",
       "aq     18\n",
       "am     18\n",
       "u      17\n",
       "aw     16\n",
       "l      16\n",
       "ad     14\n",
       "au     11\n",
       "k      11\n",
       "b      11\n",
       "as     10\n",
       "r      10\n",
       "bc      6\n",
       "ao      4\n",
       "c       3\n",
       "q       2\n",
       "aa      2\n",
       "g       1\n",
       "ac      1\n",
       "ab      1\n",
       "Name: X0, dtype: int64"
      ]
     },
     "execution_count": 38,
     "metadata": {},
     "output_type": "execute_result"
    }
   ],
   "source": [
    "merc_train.X0.value_counts()"
   ]
  },
  {
   "cell_type": "code",
   "execution_count": 46,
   "metadata": {},
   "outputs": [
    {
     "data": {
      "text/plain": [
       "<matplotlib.axes._subplots.AxesSubplot at 0x12b9744d0>"
      ]
     },
     "execution_count": 46,
     "metadata": {},
     "output_type": "execute_result"
    },
    {
     "data": {
      "image/png": "[encoded data removed]",
      "text/plain": [
       "<Figure size 1008x432 with 1 Axes>"
      ]
     },
     "metadata": {
      "needs_background": "light"
     },
     "output_type": "display_data"
    }
   ],
   "source": [
    "import matplotlib.pyplot as plt,seaborn as sns\n",
    "plt.figure(figsize=(14,6))\n",
    "sns.boxplot(x=merc_train.X0,y=merc_train.y)"
   ]
  },
  {
   "cell_type": "code",
   "execution_count": 47,
   "metadata": {},
   "outputs": [
    {
     "data": {
      "text/plain": [
       "<matplotlib.axes._subplots.AxesSubplot at 0x12bdf6210>"
      ]
     },
     "execution_count": 47,
     "metadata": {},
     "output_type": "execute_result"
    },
    {
     "data": {
      "image/png": "[encoded data removed]",
      "text/plain": [
       "<Figure size 432x288 with 1 Axes>"
      ]
     },
     "metadata": {
      "needs_background": "light"
     },
     "output_type": "display_data"
    }
   ],
   "source": [
    "sns.boxplot(x=merc_train.X0[merc_train.X0=='y'],y=merc_train.y)"
   ]
  },
  {
   "cell_type": "code",
   "execution_count": 48,
   "metadata": {},
   "outputs": [
    {
     "data": {
      "text/plain": [
       "array([2375])"
      ]
     },
     "execution_count": 48,
     "metadata": {},
     "output_type": "execute_result"
    }
   ],
   "source": [
    "((merc_train[merc_train.X0=='y']['y']).sort_values(ascending=False))[:1].index.values"
   ]
  },
  {
   "cell_type": "code",
   "execution_count": 49,
   "metadata": {},
   "outputs": [
    {
     "data": {
      "text/plain": [
       "(4208, 366)"
      ]
     },
     "execution_count": 49,
     "metadata": {},
     "output_type": "execute_result"
    }
   ],
   "source": [
    "merc_train.shape"
   ]
  },
  {
   "cell_type": "code",
   "execution_count": 50,
   "metadata": {},
   "outputs": [],
   "source": [
    "merc_train.drop(labels=((merc_train[merc_train.X0=='y']['y']).sort_values(ascending=False))[:1].index.values,inplace=True)"
   ]
  },
  {
   "cell_type": "code",
   "execution_count": 51,
   "metadata": {},
   "outputs": [
    {
     "data": {
      "text/plain": [
       "(4207, 366)"
      ]
     },
     "execution_count": 51,
     "metadata": {},
     "output_type": "execute_result"
    }
   ],
   "source": [
    "merc_train.shape"
   ]
  },
  {
   "cell_type": "code",
   "execution_count": 52,
   "metadata": {},
   "outputs": [
    {
     "data": {
      "text/plain": [
       "<matplotlib.axes._subplots.AxesSubplot at 0x12bee87d0>"
      ]
     },
     "execution_count": 52,
     "metadata": {},
     "output_type": "execute_result"
    },
    {
     "data": {
      "image/png": "[encoded data removed]",
      "text/plain": [
       "<Figure size 1008x432 with 1 Axes>"
      ]
     },
     "metadata": {
      "needs_background": "light"
     },
     "output_type": "display_data"
    }
   ],
   "source": [
    "plt.figure(figsize=(14,6))\n",
    "sns.boxplot(x=merc_train.X0,y=merc_train.y)"
   ]
  },
  {
   "cell_type": "code",
   "execution_count": 53,
   "metadata": {},
   "outputs": [
    {
     "data": {
      "text/plain": [
       "z     360\n",
       "ak    349\n",
       "y     322\n",
       "ay    313\n",
       "t     306\n",
       "x     300\n",
       "o     269\n",
       "f     227\n",
       "n     195\n",
       "w     182\n",
       "j     181\n",
       "az    175\n",
       "aj    151\n",
       "s     106\n",
       "ap    103\n",
       "h      75\n",
       "d      73\n",
       "al     67\n",
       "v      36\n",
       "af     35\n",
       "m      34\n",
       "ai     34\n",
       "e      32\n",
       "ba     27\n",
       "at     25\n",
       "a      21\n",
       "ax     19\n",
       "i      18\n",
       "aq     18\n",
       "am     18\n",
       "u      17\n",
       "aw     16\n",
       "l      16\n",
       "ad     14\n",
       "au     11\n",
       "k      11\n",
       "b      11\n",
       "as     10\n",
       "r      10\n",
       "bc      6\n",
       "ao      4\n",
       "c       3\n",
       "q       2\n",
       "aa      2\n",
       "g       1\n",
       "ac      1\n",
       "ab      1\n",
       "Name: X0, dtype: int64"
      ]
     },
     "execution_count": 53,
     "metadata": {},
     "output_type": "execute_result"
    }
   ],
   "source": [
    "merc_train.X0.value_counts()"
   ]
  },
  {
   "cell_type": "code",
   "execution_count": 61,
   "metadata": {},
   "outputs": [],
   "source": [
    "def transform_X0(df):\n",
    "    x0_grp=df.groupby('X0').count()['ID'].reset_index()\n",
    "    df['X0'].replace(to_replace=x0_grp[x0_grp['ID']<100]['X0'].values\n",
    "                            ,value='OT'\n",
    "                            ,inplace=True)"
   ]
  },
  {
   "cell_type": "code",
   "execution_count": 62,
   "metadata": {},
   "outputs": [],
   "source": [
    "transform_X0(merc_train)"
   ]
  },
  {
   "cell_type": "code",
   "execution_count": 63,
   "metadata": {},
   "outputs": [
    {
     "data": {
      "text/plain": [
       "OT    668\n",
       "z     360\n",
       "ak    349\n",
       "y     322\n",
       "ay    313\n",
       "t     306\n",
       "x     300\n",
       "o     269\n",
       "f     227\n",
       "n     195\n",
       "w     182\n",
       "j     181\n",
       "az    175\n",
       "aj    151\n",
       "s     106\n",
       "ap    103\n",
       "Name: X0, dtype: int64"
      ]
     },
     "execution_count": 63,
     "metadata": {},
     "output_type": "execute_result"
    }
   ],
   "source": [
    "merc_train.X0.value_counts()"
   ]
  },
  {
   "cell_type": "code",
   "execution_count": 64,
   "metadata": {},
   "outputs": [
    {
     "data": {
      "text/plain": [
       "<matplotlib.axes._subplots.AxesSubplot at 0x12c66cd50>"
      ]
     },
     "execution_count": 64,
     "metadata": {},
     "output_type": "execute_result"
    },
    {
     "data": {
      "image/png": "[encoded data removed]",
      "text/plain": [
       "<Figure size 432x288 with 1 Axes>"
      ]
     },
     "metadata": {
      "needs_background": "light"
     },
     "output_type": "display_data"
    }
   ],
   "source": [
    "sns.barplot(x=merc_train.X0,y=merc_train.y)"
   ]
  },
  {
   "cell_type": "markdown",
   "metadata": {},
   "source": [
    "### Analyzing feature X1"
   ]
  },
  {
   "cell_type": "code",
   "execution_count": 66,
   "metadata": {},
   "outputs": [
    {
     "data": {
      "text/plain": [
       "aa    833\n",
       "s     598\n",
       "b     591\n",
       "l     590\n",
       "v     408\n",
       "r     250\n",
       "i     203\n",
       "a     143\n",
       "c     121\n",
       "o      82\n",
       "w      52\n",
       "z      46\n",
       "u      37\n",
       "e      33\n",
       "m      32\n",
       "t      31\n",
       "h      29\n",
       "f      23\n",
       "y      23\n",
       "j      22\n",
       "n      19\n",
       "k      17\n",
       "p       9\n",
       "g       6\n",
       "d       3\n",
       "q       3\n",
       "ab      3\n",
       "Name: X1, dtype: int64"
      ]
     },
     "execution_count": 66,
     "metadata": {},
     "output_type": "execute_result"
    }
   ],
   "source": [
    "merc_train.X1.value_counts()"
   ]
  },
  {
   "cell_type": "code",
   "execution_count": 67,
   "metadata": {},
   "outputs": [
    {
     "data": {
      "text/plain": [
       "<matplotlib.axes._subplots.AxesSubplot at 0x121cea0d0>"
      ]
     },
     "execution_count": 67,
     "metadata": {},
     "output_type": "execute_result"
    },
    {
     "data": {
      "image/png": "[encoded data removed]",
      "text/plain": [
       "<Figure size 1008x432 with 1 Axes>"
      ]
     },
     "metadata": {
      "needs_background": "light"
     },
     "output_type": "display_data"
    }
   ],
   "source": [
    "plt.figure(figsize=(14,6))\n",
    "sns.boxplot(x=merc_train.X1,y=merc_train.y)"
   ]
  },
  {
   "cell_type": "code",
   "execution_count": 68,
   "metadata": {},
   "outputs": [],
   "source": [
    "def transform_X1(df):\n",
    "    x1_grp=df.groupby('X1').count()['ID'].reset_index()\n",
    "    df['X1'].replace(to_replace=x1_grp[x1_grp['ID']<100]['X1'].values\n",
    "                            ,value='OT'\n",
    "                            ,inplace=True)"
   ]
  },
  {
   "cell_type": "code",
   "execution_count": 69,
   "metadata": {},
   "outputs": [],
   "source": [
    "transform_X1(merc_train)"
   ]
  },
  {
   "cell_type": "code",
   "execution_count": 70,
   "metadata": {},
   "outputs": [
    {
     "data": {
      "text/plain": [
       "aa    833\n",
       "s     598\n",
       "b     591\n",
       "l     590\n",
       "OT    470\n",
       "v     408\n",
       "r     250\n",
       "i     203\n",
       "a     143\n",
       "c     121\n",
       "Name: X1, dtype: int64"
      ]
     },
     "execution_count": 70,
     "metadata": {},
     "output_type": "execute_result"
    }
   ],
   "source": [
    "merc_train.X1.value_counts()"
   ]
  },
  {
   "cell_type": "code",
   "execution_count": 71,
   "metadata": {},
   "outputs": [
    {
     "data": {
      "text/plain": [
       "<matplotlib.axes._subplots.AxesSubplot at 0x12c65a790>"
      ]
     },
     "execution_count": 71,
     "metadata": {},
     "output_type": "execute_result"
    },
    {
     "data": {
      "image/png": "[encoded data removed]",
      "text/plain": [
       "<Figure size 1008x432 with 1 Axes>"
      ]
     },
     "metadata": {
      "needs_background": "light"
     },
     "output_type": "display_data"
    }
   ],
   "source": [
    "plt.figure(figsize=(14,6))\n",
    "sns.boxplot(x=merc_train.X1,y=merc_train.y)"
   ]
  },
  {
   "cell_type": "code",
   "execution_count": 72,
   "metadata": {},
   "outputs": [
    {
     "data": {
      "text/plain": [
       "<matplotlib.axes._subplots.AxesSubplot at 0x12246c9d0>"
      ]
     },
     "execution_count": 72,
     "metadata": {},
     "output_type": "execute_result"
    },
    {
     "data": {
      "image/png": "[encoded data removed]",
      "text/plain": [
       "<Figure size 432x288 with 1 Axes>"
      ]
     },
     "metadata": {
      "needs_background": "light"
     },
     "output_type": "display_data"
    }
   ],
   "source": [
    "sns.barplot(x=merc_train.X1,y=merc_train.y)"
   ]
  },
  {
   "cell_type": "markdown",
   "metadata": {},
   "source": [
    "### Analyzing feature X3"
   ]
  },
  {
   "cell_type": "code",
   "execution_count": 73,
   "metadata": {},
   "outputs": [
    {
     "data": {
      "text/plain": [
       "c    1941\n",
       "f    1075\n",
       "a     440\n",
       "d     290\n",
       "g     241\n",
       "e     163\n",
       "b      57\n",
       "Name: X3, dtype: int64"
      ]
     },
     "execution_count": 73,
     "metadata": {},
     "output_type": "execute_result"
    }
   ],
   "source": [
    "merc_train.X3.value_counts()"
   ]
  },
  {
   "cell_type": "code",
   "execution_count": 74,
   "metadata": {},
   "outputs": [
    {
     "data": {
      "text/plain": [
       "<matplotlib.axes._subplots.AxesSubplot at 0x1224c15d0>"
      ]
     },
     "execution_count": 74,
     "metadata": {},
     "output_type": "execute_result"
    },
    {
     "data": {
      "image/png": "[encoded data removed]",
      "text/plain": [
       "<Figure size 1008x432 with 1 Axes>"
      ]
     },
     "metadata": {
      "needs_background": "light"
     },
     "output_type": "display_data"
    }
   ],
   "source": [
    "plt.figure(figsize=(14,6))\n",
    "sns.boxplot(x=merc_train.X3,y=merc_train.y)"
   ]
  },
  {
   "cell_type": "code",
   "execution_count": 75,
   "metadata": {},
   "outputs": [
    {
     "data": {
      "text/plain": [
       "<matplotlib.axes._subplots.AxesSubplot at 0x122526950>"
      ]
     },
     "execution_count": 75,
     "metadata": {},
     "output_type": "execute_result"
    },
    {
     "data": {
      "image/png": "[encoded data removed]",
      "text/plain": [
       "<Figure size 432x288 with 1 Axes>"
      ]
     },
     "metadata": {
      "needs_background": "light"
     },
     "output_type": "display_data"
    }
   ],
   "source": [
    "sns.barplot(x=merc_train.X3,y=merc_train.y)"
   ]
  },
  {
   "cell_type": "code",
   "execution_count": 76,
   "metadata": {},
   "outputs": [],
   "source": [
    "# There are not too many labels, so leaving the data as is"
   ]
  },
  {
   "cell_type": "markdown",
   "metadata": {},
   "source": [
    "### Analyzing feature X4"
   ]
  },
  {
   "cell_type": "code",
   "execution_count": 77,
   "metadata": {},
   "outputs": [
    {
     "data": {
      "text/plain": [
       "d    4203\n",
       "a       2\n",
       "b       1\n",
       "c       1\n",
       "Name: X4, dtype: int64"
      ]
     },
     "execution_count": 77,
     "metadata": {},
     "output_type": "execute_result"
    }
   ],
   "source": [
    "merc_train.X4.value_counts()"
   ]
  },
  {
   "cell_type": "markdown",
   "metadata": {},
   "source": [
    "### It is evident from the above counts that X4 is 'd' in more than 99% of the cases, so transforming the data to d, ~d"
   ]
  },
  {
   "cell_type": "code",
   "execution_count": 78,
   "metadata": {},
   "outputs": [
    {
     "data": {
      "text/plain": [
       "array(['b', 'c', 'a', 'a'], dtype=object)"
      ]
     },
     "execution_count": 78,
     "metadata": {},
     "output_type": "execute_result"
    }
   ],
   "source": [
    "merc_train[merc_train.X4!='d']['X4'].values"
   ]
  },
  {
   "cell_type": "code",
   "execution_count": 79,
   "metadata": {},
   "outputs": [],
   "source": [
    "def transform_X4(df):\n",
    "    df['X4'].replace(to_replace=df[df.X4!='d']['X4'].values\n",
    "                    ,value='~d'\n",
    "                    ,inplace=True)"
   ]
  },
  {
   "cell_type": "code",
   "execution_count": 80,
   "metadata": {},
   "outputs": [],
   "source": [
    "transform_X4(merc_train)"
   ]
  },
  {
   "cell_type": "code",
   "execution_count": 81,
   "metadata": {},
   "outputs": [
    {
     "data": {
      "text/plain": [
       "d     4203\n",
       "~d       4\n",
       "Name: X4, dtype: int64"
      ]
     },
     "execution_count": 81,
     "metadata": {},
     "output_type": "execute_result"
    }
   ],
   "source": [
    "merc_train.X4.value_counts()"
   ]
  },
  {
   "cell_type": "code",
   "execution_count": 82,
   "metadata": {},
   "outputs": [
    {
     "data": {
      "text/plain": [
       "<matplotlib.axes._subplots.AxesSubplot at 0x12b841650>"
      ]
     },
     "execution_count": 82,
     "metadata": {},
     "output_type": "execute_result"
    },
    {
     "data": {
      "image/png": "[encoded data removed]",
      "text/plain": [
       "<Figure size 432x288 with 1 Axes>"
      ]
     },
     "metadata": {
      "needs_background": "light"
     },
     "output_type": "display_data"
    }
   ],
   "source": [
    "sns.barplot(x=merc_train.X4,y=merc_train.y)"
   ]
  },
  {
   "cell_type": "markdown",
   "metadata": {},
   "source": [
    "### Analyzing feature X5"
   ]
  },
  {
   "cell_type": "code",
   "execution_count": 84,
   "metadata": {},
   "outputs": [
    {
     "data": {
      "text/plain": [
       "v     231\n",
       "w     231\n",
       "q     220\n",
       "r     215\n",
       "d     214\n",
       "s     214\n",
       "n     211\n",
       "p     208\n",
       "m     208\n",
       "i     207\n",
       "ae    205\n",
       "ag    203\n",
       "ac    200\n",
       "ab    197\n",
       "l     195\n",
       "af    188\n",
       "ad    185\n",
       "k     177\n",
       "c     131\n",
       "j     125\n",
       "aa    112\n",
       "ah     97\n",
       "o      20\n",
       "f       7\n",
       "x       2\n",
       "h       1\n",
       "u       1\n",
       "g       1\n",
       "y       1\n",
       "Name: X5, dtype: int64"
      ]
     },
     "execution_count": 84,
     "metadata": {},
     "output_type": "execute_result"
    }
   ],
   "source": [
    "merc_train.X5.value_counts()"
   ]
  },
  {
   "cell_type": "code",
   "execution_count": 85,
   "metadata": {},
   "outputs": [],
   "source": [
    "def transform_X5(df):\n",
    "    x5_grp=df.groupby('X5').count()['ID'].reset_index()\n",
    "    df['X5'].replace(to_replace=x5_grp[x5_grp['ID']<100]['X5'].values\n",
    "                    ,value='OT'\n",
    "                    ,inplace=True)"
   ]
  },
  {
   "cell_type": "code",
   "execution_count": 86,
   "metadata": {},
   "outputs": [],
   "source": [
    "transform_X5(merc_train)"
   ]
  },
  {
   "cell_type": "code",
   "execution_count": 87,
   "metadata": {},
   "outputs": [
    {
     "data": {
      "text/plain": [
       "w     231\n",
       "v     231\n",
       "q     220\n",
       "r     215\n",
       "s     214\n",
       "d     214\n",
       "n     211\n",
       "m     208\n",
       "p     208\n",
       "i     207\n",
       "ae    205\n",
       "ag    203\n",
       "ac    200\n",
       "ab    197\n",
       "l     195\n",
       "af    188\n",
       "ad    185\n",
       "k     177\n",
       "c     131\n",
       "OT    130\n",
       "j     125\n",
       "aa    112\n",
       "Name: X5, dtype: int64"
      ]
     },
     "execution_count": 87,
     "metadata": {},
     "output_type": "execute_result"
    }
   ],
   "source": [
    "merc_train.X5.value_counts()"
   ]
  },
  {
   "cell_type": "code",
   "execution_count": 88,
   "metadata": {},
   "outputs": [
    {
     "data": {
      "text/plain": [
       "<matplotlib.axes._subplots.AxesSubplot at 0x12b950690>"
      ]
     },
     "execution_count": 88,
     "metadata": {},
     "output_type": "execute_result"
    },
    {
     "data": {
      "image/png": "[encoded data removed]",
      "text/plain": [
       "<Figure size 1008x432 with 1 Axes>"
      ]
     },
     "metadata": {
      "needs_background": "light"
     },
     "output_type": "display_data"
    }
   ],
   "source": [
    "plt.figure(figsize=(14,6))\n",
    "sns.boxplot(x=merc_train.X5,y=merc_train.y)"
   ]
  },
  {
   "cell_type": "code",
   "execution_count": 89,
   "metadata": {},
   "outputs": [
    {
     "data": {
      "text/plain": [
       "<matplotlib.axes._subplots.AxesSubplot at 0x12cb80ad0>"
      ]
     },
     "execution_count": 89,
     "metadata": {},
     "output_type": "execute_result"
    },
    {
     "data": {
      "image/png": "[encoded data removed]",
      "text/plain": [
       "<Figure size 432x288 with 1 Axes>"
      ]
     },
     "metadata": {
      "needs_background": "light"
     },
     "output_type": "display_data"
    }
   ],
   "source": [
    "sns.barplot(x=merc_train.X5,y=merc_train.y)"
   ]
  },
  {
   "cell_type": "markdown",
   "metadata": {},
   "source": [
    "### Analyzing feature X6"
   ]
  },
  {
   "cell_type": "code",
   "execution_count": 90,
   "metadata": {},
   "outputs": [
    {
     "data": {
      "text/plain": [
       "g    1041\n",
       "j    1039\n",
       "d     625\n",
       "i     488\n",
       "l     477\n",
       "a     206\n",
       "h     190\n",
       "k      43\n",
       "c      38\n",
       "b      28\n",
       "f      20\n",
       "e      12\n",
       "Name: X6, dtype: int64"
      ]
     },
     "execution_count": 90,
     "metadata": {},
     "output_type": "execute_result"
    }
   ],
   "source": [
    "merc_train.X6.value_counts()"
   ]
  },
  {
   "cell_type": "code",
   "execution_count": 91,
   "metadata": {},
   "outputs": [
    {
     "data": {
      "text/plain": [
       "<matplotlib.axes._subplots.AxesSubplot at 0x12ccf8e50>"
      ]
     },
     "execution_count": 91,
     "metadata": {},
     "output_type": "execute_result"
    },
    {
     "data": {
      "image/png": "[encoded data removed]",
      "text/plain": [
       "<Figure size 1008x432 with 1 Axes>"
      ]
     },
     "metadata": {
      "needs_background": "light"
     },
     "output_type": "display_data"
    }
   ],
   "source": [
    "plt.figure(figsize=(14,6))\n",
    "sns.barplot(x=merc_train.X6,y=merc_train.y)"
   ]
  },
  {
   "cell_type": "markdown",
   "metadata": {},
   "source": [
    "### Analyzing feature X8"
   ]
  },
  {
   "cell_type": "code",
   "execution_count": 92,
   "metadata": {},
   "outputs": [
    {
     "data": {
      "text/plain": [
       "j    277\n",
       "s    255\n",
       "f    243\n",
       "n    242\n",
       "i    237\n",
       "e    225\n",
       "r    219\n",
       "a    210\n",
       "w    196\n",
       "v    194\n",
       "b    189\n",
       "k    176\n",
       "o    163\n",
       "m    155\n",
       "g    130\n",
       "u    119\n",
       "t    118\n",
       "q    117\n",
       "h    117\n",
       "y    116\n",
       "x    105\n",
       "d    103\n",
       "l    101\n",
       "c    100\n",
       "p    100\n",
       "Name: X8, dtype: int64"
      ]
     },
     "execution_count": 92,
     "metadata": {},
     "output_type": "execute_result"
    }
   ],
   "source": [
    "merc_train.X8.value_counts()"
   ]
  },
  {
   "cell_type": "code",
   "execution_count": 93,
   "metadata": {},
   "outputs": [
    {
     "data": {
      "text/plain": [
       "<matplotlib.axes._subplots.AxesSubplot at 0x12c4f8e10>"
      ]
     },
     "execution_count": 93,
     "metadata": {},
     "output_type": "execute_result"
    },
    {
     "data": {
      "image/png": "[encoded data removed]",
      "text/plain": [
       "<Figure size 1008x432 with 1 Axes>"
      ]
     },
     "metadata": {
      "needs_background": "light"
     },
     "output_type": "display_data"
    }
   ],
   "source": [
    "plt.figure(figsize=(14,6))\n",
    "sns.barplot(x=merc_train.X8,y=merc_train.y)"
   ]
  },
  {
   "cell_type": "markdown",
   "metadata": {},
   "source": [
    "From the above barplots on categorical features, it is evident that outcome(y) is not majorly impacted by these features\n",
    "\n"
   ]
  },
  {
   "cell_type": "markdown",
   "metadata": {},
   "source": [
    "## Applying label encoder on categorical features to convert them to numerical"
   ]
  },
  {
   "cell_type": "code",
   "execution_count": 94,
   "metadata": {},
   "outputs": [],
   "source": [
    "from sklearn.preprocessing import LabelEncoder"
   ]
  },
  {
   "cell_type": "code",
   "execution_count": 95,
   "metadata": {},
   "outputs": [],
   "source": [
    "x=merc_train.drop(columns='y')\n",
    "y=merc_train.y"
   ]
  },
  {
   "cell_type": "code",
   "execution_count": 96,
   "metadata": {},
   "outputs": [
    {
     "data": {
      "text/html": [
       "<div>\n",
       "<style scoped>\n",
       "    .dataframe tbody tr th:only-of-type {\n",
       "        vertical-align: middle;\n",
       "    }\n",
       "\n",
       "    .dataframe tbody tr th {\n",
       "        vertical-align: top;\n",
       "    }\n",
       "\n",
       "    .dataframe thead th {\n",
       "        text-align: right;\n",
       "    }\n",
       "</style>\n",
       "<table border=\"1\" class=\"dataframe\">\n",
       "  <thead>\n",
       "    <tr style=\"text-align: right;\">\n",
       "      <th></th>\n",
       "      <th>ID</th>\n",
       "      <th>X0</th>\n",
       "      <th>X1</th>\n",
       "      <th>X2</th>\n",
       "      <th>X3</th>\n",
       "      <th>X4</th>\n",
       "      <th>X5</th>\n",
       "      <th>X6</th>\n",
       "      <th>X8</th>\n",
       "      <th>X10</th>\n",
       "      <th>...</th>\n",
       "      <th>X375</th>\n",
       "      <th>X376</th>\n",
       "      <th>X377</th>\n",
       "      <th>X378</th>\n",
       "      <th>X379</th>\n",
       "      <th>X380</th>\n",
       "      <th>X382</th>\n",
       "      <th>X383</th>\n",
       "      <th>X384</th>\n",
       "      <th>X385</th>\n",
       "    </tr>\n",
       "  </thead>\n",
       "  <tbody>\n",
       "    <tr>\n",
       "      <td>0</td>\n",
       "      <td>0</td>\n",
       "      <td>OT</td>\n",
       "      <td>v</td>\n",
       "      <td>at</td>\n",
       "      <td>a</td>\n",
       "      <td>d</td>\n",
       "      <td>OT</td>\n",
       "      <td>j</td>\n",
       "      <td>o</td>\n",
       "      <td>0</td>\n",
       "      <td>...</td>\n",
       "      <td>0</td>\n",
       "      <td>0</td>\n",
       "      <td>1</td>\n",
       "      <td>0</td>\n",
       "      <td>0</td>\n",
       "      <td>0</td>\n",
       "      <td>0</td>\n",
       "      <td>0</td>\n",
       "      <td>0</td>\n",
       "      <td>0</td>\n",
       "    </tr>\n",
       "    <tr>\n",
       "      <td>1</td>\n",
       "      <td>6</td>\n",
       "      <td>OT</td>\n",
       "      <td>OT</td>\n",
       "      <td>av</td>\n",
       "      <td>e</td>\n",
       "      <td>d</td>\n",
       "      <td>OT</td>\n",
       "      <td>l</td>\n",
       "      <td>o</td>\n",
       "      <td>0</td>\n",
       "      <td>...</td>\n",
       "      <td>1</td>\n",
       "      <td>0</td>\n",
       "      <td>0</td>\n",
       "      <td>0</td>\n",
       "      <td>0</td>\n",
       "      <td>0</td>\n",
       "      <td>0</td>\n",
       "      <td>0</td>\n",
       "      <td>0</td>\n",
       "      <td>0</td>\n",
       "    </tr>\n",
       "    <tr>\n",
       "      <td>2</td>\n",
       "      <td>7</td>\n",
       "      <td>az</td>\n",
       "      <td>OT</td>\n",
       "      <td>n</td>\n",
       "      <td>c</td>\n",
       "      <td>d</td>\n",
       "      <td>OT</td>\n",
       "      <td>j</td>\n",
       "      <td>x</td>\n",
       "      <td>0</td>\n",
       "      <td>...</td>\n",
       "      <td>0</td>\n",
       "      <td>0</td>\n",
       "      <td>0</td>\n",
       "      <td>0</td>\n",
       "      <td>0</td>\n",
       "      <td>0</td>\n",
       "      <td>1</td>\n",
       "      <td>0</td>\n",
       "      <td>0</td>\n",
       "      <td>0</td>\n",
       "    </tr>\n",
       "    <tr>\n",
       "      <td>3</td>\n",
       "      <td>9</td>\n",
       "      <td>az</td>\n",
       "      <td>OT</td>\n",
       "      <td>n</td>\n",
       "      <td>f</td>\n",
       "      <td>d</td>\n",
       "      <td>OT</td>\n",
       "      <td>l</td>\n",
       "      <td>e</td>\n",
       "      <td>0</td>\n",
       "      <td>...</td>\n",
       "      <td>0</td>\n",
       "      <td>0</td>\n",
       "      <td>0</td>\n",
       "      <td>0</td>\n",
       "      <td>0</td>\n",
       "      <td>0</td>\n",
       "      <td>0</td>\n",
       "      <td>0</td>\n",
       "      <td>0</td>\n",
       "      <td>0</td>\n",
       "    </tr>\n",
       "    <tr>\n",
       "      <td>4</td>\n",
       "      <td>13</td>\n",
       "      <td>az</td>\n",
       "      <td>v</td>\n",
       "      <td>n</td>\n",
       "      <td>f</td>\n",
       "      <td>d</td>\n",
       "      <td>OT</td>\n",
       "      <td>d</td>\n",
       "      <td>n</td>\n",
       "      <td>0</td>\n",
       "      <td>...</td>\n",
       "      <td>0</td>\n",
       "      <td>0</td>\n",
       "      <td>0</td>\n",
       "      <td>0</td>\n",
       "      <td>0</td>\n",
       "      <td>0</td>\n",
       "      <td>0</td>\n",
       "      <td>0</td>\n",
       "      <td>0</td>\n",
       "      <td>0</td>\n",
       "    </tr>\n",
       "  </tbody>\n",
       "</table>\n",
       "<p>5 rows × 365 columns</p>\n",
       "</div>"
      ],
      "text/plain": [
       "   ID  X0  X1  X2 X3 X4  X5 X6 X8  X10  ...  X375  X376  X377  X378  X379  \\\n",
       "0   0  OT   v  at  a  d  OT  j  o    0  ...     0     0     1     0     0   \n",
       "1   6  OT  OT  av  e  d  OT  l  o    0  ...     1     0     0     0     0   \n",
       "2   7  az  OT   n  c  d  OT  j  x    0  ...     0     0     0     0     0   \n",
       "3   9  az  OT   n  f  d  OT  l  e    0  ...     0     0     0     0     0   \n",
       "4  13  az   v   n  f  d  OT  d  n    0  ...     0     0     0     0     0   \n",
       "\n",
       "   X380  X382  X383  X384  X385  \n",
       "0     0     0     0     0     0  \n",
       "1     0     0     0     0     0  \n",
       "2     0     1     0     0     0  \n",
       "3     0     0     0     0     0  \n",
       "4     0     0     0     0     0  \n",
       "\n",
       "[5 rows x 365 columns]"
      ]
     },
     "execution_count": 96,
     "metadata": {},
     "output_type": "execute_result"
    }
   ],
   "source": [
    "x.head()"
   ]
  },
  {
   "cell_type": "code",
   "execution_count": 97,
   "metadata": {},
   "outputs": [],
   "source": [
    "catCols=merc_train.select_dtypes(include=\"object\").columns"
   ]
  },
  {
   "cell_type": "code",
   "execution_count": 98,
   "metadata": {},
   "outputs": [
    {
     "data": {
      "text/plain": [
       "Index(['X0', 'X1', 'X2', 'X3', 'X4', 'X5', 'X6', 'X8'], dtype='object')"
      ]
     },
     "execution_count": 98,
     "metadata": {},
     "output_type": "execute_result"
    }
   ],
   "source": [
    "catCols"
   ]
  },
  {
   "cell_type": "code",
   "execution_count": 99,
   "metadata": {},
   "outputs": [],
   "source": [
    "def transform_labels(df,x):\n",
    "    catCols=df.select_dtypes(include=\"object\").columns\n",
    "    le=LabelEncoder()\n",
    "    for i in catCols:\n",
    "        le.fit(x[i])\n",
    "        x[i]=le.transform(x[i])"
   ]
  },
  {
   "cell_type": "code",
   "execution_count": 100,
   "metadata": {},
   "outputs": [],
   "source": [
    "transform_labels(merc_train,x)"
   ]
  },
  {
   "cell_type": "code",
   "execution_count": 101,
   "metadata": {},
   "outputs": [
    {
     "data": {
      "text/html": [
       "<div>\n",
       "<style scoped>\n",
       "    .dataframe tbody tr th:only-of-type {\n",
       "        vertical-align: middle;\n",
       "    }\n",
       "\n",
       "    .dataframe tbody tr th {\n",
       "        vertical-align: top;\n",
       "    }\n",
       "\n",
       "    .dataframe thead th {\n",
       "        text-align: right;\n",
       "    }\n",
       "</style>\n",
       "<table border=\"1\" class=\"dataframe\">\n",
       "  <thead>\n",
       "    <tr style=\"text-align: right;\">\n",
       "      <th></th>\n",
       "      <th>ID</th>\n",
       "      <th>X0</th>\n",
       "      <th>X1</th>\n",
       "      <th>X2</th>\n",
       "      <th>X3</th>\n",
       "      <th>X4</th>\n",
       "      <th>X5</th>\n",
       "      <th>X6</th>\n",
       "      <th>X8</th>\n",
       "      <th>X10</th>\n",
       "      <th>...</th>\n",
       "      <th>X375</th>\n",
       "      <th>X376</th>\n",
       "      <th>X377</th>\n",
       "      <th>X378</th>\n",
       "      <th>X379</th>\n",
       "      <th>X380</th>\n",
       "      <th>X382</th>\n",
       "      <th>X383</th>\n",
       "      <th>X384</th>\n",
       "      <th>X385</th>\n",
       "    </tr>\n",
       "  </thead>\n",
       "  <tbody>\n",
       "    <tr>\n",
       "      <td>0</td>\n",
       "      <td>0</td>\n",
       "      <td>0</td>\n",
       "      <td>9</td>\n",
       "      <td>17</td>\n",
       "      <td>0</td>\n",
       "      <td>0</td>\n",
       "      <td>0</td>\n",
       "      <td>9</td>\n",
       "      <td>14</td>\n",
       "      <td>0</td>\n",
       "      <td>...</td>\n",
       "      <td>0</td>\n",
       "      <td>0</td>\n",
       "      <td>1</td>\n",
       "      <td>0</td>\n",
       "      <td>0</td>\n",
       "      <td>0</td>\n",
       "      <td>0</td>\n",
       "      <td>0</td>\n",
       "      <td>0</td>\n",
       "      <td>0</td>\n",
       "    </tr>\n",
       "    <tr>\n",
       "      <td>1</td>\n",
       "      <td>6</td>\n",
       "      <td>0</td>\n",
       "      <td>0</td>\n",
       "      <td>19</td>\n",
       "      <td>4</td>\n",
       "      <td>0</td>\n",
       "      <td>0</td>\n",
       "      <td>11</td>\n",
       "      <td>14</td>\n",
       "      <td>0</td>\n",
       "      <td>...</td>\n",
       "      <td>1</td>\n",
       "      <td>0</td>\n",
       "      <td>0</td>\n",
       "      <td>0</td>\n",
       "      <td>0</td>\n",
       "      <td>0</td>\n",
       "      <td>0</td>\n",
       "      <td>0</td>\n",
       "      <td>0</td>\n",
       "      <td>0</td>\n",
       "    </tr>\n",
       "    <tr>\n",
       "      <td>2</td>\n",
       "      <td>7</td>\n",
       "      <td>5</td>\n",
       "      <td>0</td>\n",
       "      <td>34</td>\n",
       "      <td>2</td>\n",
       "      <td>0</td>\n",
       "      <td>0</td>\n",
       "      <td>9</td>\n",
       "      <td>23</td>\n",
       "      <td>0</td>\n",
       "      <td>...</td>\n",
       "      <td>0</td>\n",
       "      <td>0</td>\n",
       "      <td>0</td>\n",
       "      <td>0</td>\n",
       "      <td>0</td>\n",
       "      <td>0</td>\n",
       "      <td>1</td>\n",
       "      <td>0</td>\n",
       "      <td>0</td>\n",
       "      <td>0</td>\n",
       "    </tr>\n",
       "    <tr>\n",
       "      <td>3</td>\n",
       "      <td>9</td>\n",
       "      <td>5</td>\n",
       "      <td>0</td>\n",
       "      <td>34</td>\n",
       "      <td>5</td>\n",
       "      <td>0</td>\n",
       "      <td>0</td>\n",
       "      <td>11</td>\n",
       "      <td>4</td>\n",
       "      <td>0</td>\n",
       "      <td>...</td>\n",
       "      <td>0</td>\n",
       "      <td>0</td>\n",
       "      <td>0</td>\n",
       "      <td>0</td>\n",
       "      <td>0</td>\n",
       "      <td>0</td>\n",
       "      <td>0</td>\n",
       "      <td>0</td>\n",
       "      <td>0</td>\n",
       "      <td>0</td>\n",
       "    </tr>\n",
       "    <tr>\n",
       "      <td>4</td>\n",
       "      <td>13</td>\n",
       "      <td>5</td>\n",
       "      <td>9</td>\n",
       "      <td>34</td>\n",
       "      <td>5</td>\n",
       "      <td>0</td>\n",
       "      <td>0</td>\n",
       "      <td>3</td>\n",
       "      <td>13</td>\n",
       "      <td>0</td>\n",
       "      <td>...</td>\n",
       "      <td>0</td>\n",
       "      <td>0</td>\n",
       "      <td>0</td>\n",
       "      <td>0</td>\n",
       "      <td>0</td>\n",
       "      <td>0</td>\n",
       "      <td>0</td>\n",
       "      <td>0</td>\n",
       "      <td>0</td>\n",
       "      <td>0</td>\n",
       "    </tr>\n",
       "  </tbody>\n",
       "</table>\n",
       "<p>5 rows × 365 columns</p>\n",
       "</div>"
      ],
      "text/plain": [
       "   ID  X0  X1  X2  X3  X4  X5  X6  X8  X10  ...  X375  X376  X377  X378  X379  \\\n",
       "0   0   0   9  17   0   0   0   9  14    0  ...     0     0     1     0     0   \n",
       "1   6   0   0  19   4   0   0  11  14    0  ...     1     0     0     0     0   \n",
       "2   7   5   0  34   2   0   0   9  23    0  ...     0     0     0     0     0   \n",
       "3   9   5   0  34   5   0   0  11   4    0  ...     0     0     0     0     0   \n",
       "4  13   5   9  34   5   0   0   3  13    0  ...     0     0     0     0     0   \n",
       "\n",
       "   X380  X382  X383  X384  X385  \n",
       "0     0     0     0     0     0  \n",
       "1     0     0     0     0     0  \n",
       "2     0     1     0     0     0  \n",
       "3     0     0     0     0     0  \n",
       "4     0     0     0     0     0  \n",
       "\n",
       "[5 rows x 365 columns]"
      ]
     },
     "execution_count": 101,
     "metadata": {},
     "output_type": "execute_result"
    }
   ],
   "source": [
    "x.head()"
   ]
  },
  {
   "cell_type": "code",
   "execution_count": 102,
   "metadata": {},
   "outputs": [],
   "source": [
    "from sklearn.preprocessing import StandardScaler"
   ]
  },
  {
   "cell_type": "code",
   "execution_count": 103,
   "metadata": {},
   "outputs": [
    {
     "data": {
      "text/plain": [
       "StandardScaler()"
      ]
     },
     "execution_count": 103,
     "metadata": {},
     "output_type": "execute_result"
    }
   ],
   "source": [
    "stdsclr=StandardScaler()\n",
    "stdsclr.fit(x)"
   ]
  },
  {
   "cell_type": "code",
   "execution_count": 104,
   "metadata": {},
   "outputs": [],
   "source": [
    "x_std=stdsclr.transform(x)"
   ]
  },
  {
   "cell_type": "markdown",
   "metadata": {},
   "source": [
    "#### From the above barplots, we can say that categorical features X1,X2,X3,X5,X7,X8 are not making much impact on the outcome, so considering PCA on X0,X4,X6"
   ]
  },
  {
   "cell_type": "code",
   "execution_count": 107,
   "metadata": {},
   "outputs": [],
   "source": [
    "from sklearn.decomposition import PCA"
   ]
  },
  {
   "cell_type": "code",
   "execution_count": 108,
   "metadata": {},
   "outputs": [],
   "source": [
    "pcaModel=PCA()"
   ]
  },
  {
   "cell_type": "code",
   "execution_count": 109,
   "metadata": {},
   "outputs": [
    {
     "data": {
      "text/plain": [
       "PCA()"
      ]
     },
     "execution_count": 109,
     "metadata": {},
     "output_type": "execute_result"
    }
   ],
   "source": [
    "pcaModel.fit(x)"
   ]
  },
  {
   "cell_type": "code",
   "execution_count": 110,
   "metadata": {},
   "outputs": [
    {
     "data": {
      "text/plain": [
       "array([9.99955834e-01, 2.01995659e-05, 8.27180717e-06, 4.71378767e-06,\n",
       "       4.10957576e-06, 1.56399165e-06, 1.35710972e-06, 6.84188010e-07,\n",
       "       3.74982887e-07, 2.76507432e-07, 2.19718627e-07, 2.07768464e-07,\n",
       "       1.83664875e-07, 1.51468711e-07, 1.31654379e-07, 1.15327579e-07,\n",
       "       9.26627705e-08, 8.71669355e-08, 7.61418318e-08, 7.02740066e-08,\n",
       "       6.33839180e-08, 5.82108640e-08, 5.65913588e-08, 5.12210933e-08,\n",
       "       4.59429677e-08, 4.35569618e-08, 3.90014802e-08, 3.72571096e-08,\n",
       "       3.40359329e-08, 3.22829593e-08, 3.13374097e-08, 2.88299724e-08,\n",
       "       2.80445068e-08, 2.63666752e-08, 2.57304155e-08, 2.43748776e-08,\n",
       "       2.23882835e-08, 2.08689854e-08, 1.93240969e-08, 1.86528905e-08,\n",
       "       1.76477730e-08, 1.69596875e-08, 1.61863856e-08, 1.58911429e-08,\n",
       "       1.54189679e-08, 1.51042880e-08, 1.36667688e-08, 1.33849243e-08,\n",
       "       1.29544952e-08, 1.26449740e-08, 1.22607594e-08, 1.22162248e-08,\n",
       "       1.17753703e-08, 1.13072766e-08, 1.06132206e-08, 1.02316119e-08,\n",
       "       9.69261463e-09, 9.59973112e-09, 9.35528471e-09, 9.17987347e-09,\n",
       "       8.84220090e-09, 8.29439009e-09, 8.19116326e-09, 7.75846441e-09,\n",
       "       7.69173513e-09, 7.17063049e-09, 7.00624908e-09, 6.76884662e-09,\n",
       "       6.72918281e-09, 6.35049143e-09, 6.29416162e-09, 6.03576598e-09,\n",
       "       5.94062901e-09, 5.72520605e-09, 5.55094340e-09, 5.54730991e-09,\n",
       "       5.37404886e-09, 5.16184185e-09, 5.06121730e-09, 4.99032154e-09,\n",
       "       4.82978298e-09, 4.73384371e-09, 4.58477916e-09, 4.48854272e-09,\n",
       "       4.32466085e-09, 4.18255154e-09, 4.15111975e-09, 3.98077710e-09,\n",
       "       3.92226576e-09, 3.80441261e-09, 3.78509684e-09, 3.71981783e-09,\n",
       "       3.70990905e-09, 3.50064553e-09, 3.32761231e-09, 3.26646693e-09,\n",
       "       3.20927531e-09, 3.13712332e-09, 3.11094760e-09, 3.07329085e-09,\n",
       "       2.98830240e-09, 2.85742521e-09, 2.79762159e-09, 2.77327536e-09,\n",
       "       2.65223910e-09, 2.55217570e-09, 2.46138890e-09, 2.44075438e-09,\n",
       "       2.35143886e-09, 2.31279837e-09, 2.26780058e-09, 2.19267495e-09,\n",
       "       2.12900690e-09, 2.09634460e-09, 2.02189151e-09, 1.98613309e-09,\n",
       "       1.92513263e-09, 1.85897835e-09, 1.82669787e-09, 1.72094588e-09,\n",
       "       1.69570168e-09, 1.67550801e-09, 1.63394576e-09, 1.59482839e-09,\n",
       "       1.53461070e-09, 1.47227640e-09, 1.44502480e-09, 1.41749650e-09,\n",
       "       1.38520792e-09, 1.36785911e-09, 1.33760014e-09, 1.32882546e-09,\n",
       "       1.27066918e-09, 1.25694296e-09, 1.23623703e-09, 1.16406645e-09,\n",
       "       1.15343921e-09, 1.11432142e-09, 1.10041690e-09, 1.09931566e-09,\n",
       "       1.06915085e-09, 1.05007614e-09, 9.69595691e-10, 9.37590382e-10,\n",
       "       8.97087561e-10, 8.69606488e-10, 8.48154205e-10, 8.44967783e-10,\n",
       "       7.91568023e-10, 7.87709542e-10, 7.69373954e-10, 7.61307651e-10,\n",
       "       7.37861717e-10, 7.15399592e-10, 6.92919452e-10, 6.75043880e-10,\n",
       "       6.37127854e-10, 6.32515846e-10, 6.12975688e-10, 5.97803026e-10,\n",
       "       5.63892783e-10, 5.59758033e-10, 5.48673365e-10, 5.36735722e-10,\n",
       "       5.18523697e-10, 5.10940767e-10, 5.05399249e-10, 4.87258907e-10,\n",
       "       4.84799749e-10, 4.53836873e-10, 4.41171514e-10, 4.29431423e-10,\n",
       "       4.09827301e-10, 3.96166144e-10, 3.82734844e-10, 3.67181223e-10,\n",
       "       3.37073958e-10, 3.31011273e-10, 3.21377430e-10, 3.18902520e-10,\n",
       "       3.10413237e-10, 2.95831431e-10, 2.88087162e-10, 2.73026077e-10,\n",
       "       2.70563258e-10, 2.61132193e-10, 2.58298186e-10, 2.47872464e-10,\n",
       "       2.41922599e-10, 2.35844806e-10, 2.31920318e-10, 2.23391715e-10,\n",
       "       2.13580179e-10, 2.08879335e-10, 2.02439264e-10, 1.99070651e-10,\n",
       "       1.96386396e-10, 1.91582001e-10, 1.87832491e-10, 1.80817035e-10,\n",
       "       1.76672890e-10, 1.73145069e-10, 1.62441552e-10, 1.59443591e-10,\n",
       "       1.53447116e-10, 1.50081136e-10, 1.47034643e-10, 1.41892390e-10,\n",
       "       1.38901399e-10, 1.30800138e-10, 1.30339158e-10, 1.22439021e-10,\n",
       "       1.18932573e-10, 1.15571198e-10, 1.12682740e-10, 1.09239287e-10,\n",
       "       1.02232173e-10, 9.77495142e-11, 9.03657496e-11, 8.89907767e-11,\n",
       "       8.53092945e-11, 7.99849576e-11, 7.59272310e-11, 7.17330963e-11,\n",
       "       7.07700343e-11, 6.99992326e-11, 6.95208407e-11, 6.86193972e-11,\n",
       "       6.52407894e-11, 6.45067498e-11, 6.07334545e-11, 5.87680211e-11,\n",
       "       5.76247696e-11, 5.65511882e-11, 5.52922698e-11, 5.19673215e-11,\n",
       "       4.87609837e-11, 4.39529527e-11, 4.32554024e-11, 3.84605312e-11,\n",
       "       3.79063610e-11, 3.73611403e-11, 3.65890806e-11, 3.64806537e-11,\n",
       "       3.60782350e-11, 3.47871161e-11, 3.36064491e-11, 3.24326693e-11,\n",
       "       3.05836166e-11, 2.92086087e-11, 2.19536614e-11, 1.76835954e-11,\n",
       "       1.63532069e-11, 1.42227454e-11, 1.30618845e-11, 1.21184228e-11,\n",
       "       1.10144346e-11, 8.88542009e-12, 7.73981218e-12, 2.39529291e-12,\n",
       "       9.98355376e-33, 9.98355376e-33, 9.98355376e-33, 9.98355376e-33,\n",
       "       9.98355376e-33, 9.98355376e-33, 9.98355376e-33, 9.98355376e-33,\n",
       "       9.98355376e-33, 9.98355376e-33, 9.98355376e-33, 9.98355376e-33,\n",
       "       9.98355376e-33, 9.98355376e-33, 9.98355376e-33, 9.98355376e-33,\n",
       "       9.98355376e-33, 9.98355376e-33, 9.98355376e-33, 9.98355376e-33,\n",
       "       9.98355376e-33, 9.98355376e-33, 9.98355376e-33, 9.98355376e-33,\n",
       "       9.98355376e-33, 9.98355376e-33, 9.98355376e-33, 9.98355376e-33,\n",
       "       9.98355376e-33, 9.98355376e-33, 9.98355376e-33, 9.98355376e-33,\n",
       "       9.98355376e-33, 9.98355376e-33, 9.98355376e-33, 9.98355376e-33,\n",
       "       9.98355376e-33, 9.98355376e-33, 9.98355376e-33, 9.98355376e-33,\n",
       "       9.98355376e-33, 9.98355376e-33, 9.98355376e-33, 9.98355376e-33,\n",
       "       9.98355376e-33, 9.98355376e-33, 9.98355376e-33, 9.98355376e-33,\n",
       "       9.98355376e-33, 9.98355376e-33, 9.98355376e-33, 9.98355376e-33,\n",
       "       9.98355376e-33, 9.98355376e-33, 9.98355376e-33, 9.98355376e-33,\n",
       "       9.98355376e-33, 9.98355376e-33, 9.98355376e-33, 9.98355376e-33,\n",
       "       9.98355376e-33, 9.98355376e-33, 9.98355376e-33, 9.98355376e-33,\n",
       "       9.98355376e-33, 9.98355376e-33, 9.98355376e-33, 9.98355376e-33,\n",
       "       9.98355376e-33, 9.98355376e-33, 9.98355376e-33, 9.98355376e-33,\n",
       "       9.98355376e-33, 9.98355376e-33, 9.98355376e-33, 9.98355376e-33,\n",
       "       9.98355376e-33, 9.98355376e-33, 9.98355376e-33, 9.98355376e-33,\n",
       "       9.98355376e-33, 9.98355376e-33, 9.98355376e-33, 9.98355376e-33,\n",
       "       9.98355376e-33, 9.98355376e-33, 9.98355376e-33, 9.98355376e-33,\n",
       "       9.98355376e-33, 9.98355376e-33, 9.98355376e-33, 9.98355376e-33,\n",
       "       9.98355376e-33, 9.98355376e-33, 9.98355376e-33, 9.98355376e-33,\n",
       "       9.98355376e-33, 9.98355376e-33, 9.98355376e-33, 9.98355376e-33,\n",
       "       9.98355376e-33, 9.98355376e-33, 9.98355376e-33, 9.98355376e-33,\n",
       "       1.54664495e-39])"
      ]
     },
     "execution_count": 110,
     "metadata": {},
     "output_type": "execute_result"
    }
   ],
   "source": [
    "pcaModel.explained_variance_ratio_"
   ]
  },
  {
   "cell_type": "code",
   "execution_count": 113,
   "metadata": {},
   "outputs": [
    {
     "data": {
      "text/plain": [
       "array([ 99.99558345,  99.9976034 ,  99.99843058,  99.99890196,\n",
       "        99.99931292,  99.99946932,  99.99960503,  99.99967345,\n",
       "        99.99971095,  99.9997386 ,  99.99976057,  99.99978135,\n",
       "        99.99979971,  99.99981486,  99.99982803,  99.99983956,\n",
       "        99.99984882,  99.99985754,  99.99986516,  99.99987218,\n",
       "        99.99987852,  99.99988434,  99.99989   ,  99.99989512,\n",
       "        99.99989972,  99.99990407,  99.99990797,  99.9999117 ,\n",
       "        99.9999151 ,  99.99991833,  99.99992147,  99.99992435,\n",
       "        99.99992715,  99.99992979,  99.99993236,  99.9999348 ,\n",
       "        99.99993704,  99.99993913,  99.99994106,  99.99994292,\n",
       "        99.99994469,  99.99994638,  99.999948  ,  99.99994959,\n",
       "        99.99995113,  99.99995264,  99.99995401,  99.99995535,\n",
       "        99.99995664,  99.99995791,  99.99995914,  99.99996036,\n",
       "        99.99996153,  99.99996267,  99.99996373,  99.99996475,\n",
       "        99.99996572,  99.99996668,  99.99996761,  99.99996853,\n",
       "        99.99996942,  99.99997025,  99.99997107,  99.99997184,\n",
       "        99.99997261,  99.99997333,  99.99997403,  99.9999747 ,\n",
       "        99.99997538,  99.99997601,  99.99997664,  99.99997725,\n",
       "        99.99997784,  99.99997841,  99.99997897,  99.99997952,\n",
       "        99.99998006,  99.99998058,  99.99998108,  99.99998158,\n",
       "        99.99998206,  99.99998254,  99.999983  ,  99.99998344,\n",
       "        99.99998388,  99.9999843 ,  99.99998471,  99.99998511,\n",
       "        99.9999855 ,  99.99998588,  99.99998626,  99.99998663,\n",
       "        99.999987  ,  99.99998735,  99.99998769,  99.99998801,\n",
       "        99.99998833,  99.99998865,  99.99998896,  99.99998927,\n",
       "        99.99998956,  99.99998985,  99.99999013,  99.99999041,\n",
       "        99.99999067,  99.99999093,  99.99999117,  99.99999142,\n",
       "        99.99999165,  99.99999188,  99.99999211,  99.99999233,\n",
       "        99.99999254,  99.99999275,  99.99999295,  99.99999315,\n",
       "        99.99999335,  99.99999353,  99.99999371,  99.99999389,\n",
       "        99.99999406,  99.99999422,  99.99999439,  99.99999455,\n",
       "        99.9999947 ,  99.99999485,  99.99999499,  99.99999513,\n",
       "        99.99999527,  99.99999541,  99.99999554,  99.99999568,\n",
       "        99.9999958 ,  99.99999593,  99.99999605,  99.99999617,\n",
       "        99.99999628,  99.99999639,  99.9999965 ,  99.99999661,\n",
       "        99.99999672,  99.99999683,  99.99999692,  99.99999702,\n",
       "        99.99999711,  99.99999719,  99.99999728,  99.99999736,\n",
       "        99.99999744,  99.99999752,  99.9999976 ,  99.99999767,\n",
       "        99.99999775,  99.99999782,  99.99999789,  99.99999796,\n",
       "        99.99999802,  99.99999808,  99.99999814,  99.9999982 ,\n",
       "        99.99999826,  99.99999832,  99.99999837,  99.99999843,\n",
       "        99.99999848,  99.99999853,  99.99999858,  99.99999863,\n",
       "        99.99999868,  99.99999872,  99.99999877,  99.99999881,\n",
       "        99.99999885,  99.99999889,  99.99999893,  99.99999896,\n",
       "        99.999999  ,  99.99999903,  99.99999906,  99.9999991 ,\n",
       "        99.99999913,  99.99999916,  99.99999918,  99.99999921,\n",
       "        99.99999924,  99.99999927,  99.99999929,  99.99999932,\n",
       "        99.99999934,  99.99999936,  99.99999939,  99.99999941,\n",
       "        99.99999943,  99.99999945,  99.99999947,  99.99999949,\n",
       "        99.99999951,  99.99999953,  99.99999955,  99.99999957,\n",
       "        99.99999958,  99.9999996 ,  99.99999962,  99.99999963,\n",
       "        99.99999965,  99.99999966,  99.99999968,  99.99999969,\n",
       "        99.99999971,  99.99999972,  99.99999973,  99.99999975,\n",
       "        99.99999976,  99.99999977,  99.99999978,  99.99999979,\n",
       "        99.9999998 ,  99.99999981,  99.99999982,  99.99999983,\n",
       "        99.99999984,  99.99999985,  99.99999985,  99.99999986,\n",
       "        99.99999987,  99.99999987,  99.99999988,  99.99999989,\n",
       "        99.99999989,  99.9999999 ,  99.99999991,  99.99999991,\n",
       "        99.99999992,  99.99999992,  99.99999993,  99.99999994,\n",
       "        99.99999994,  99.99999994,  99.99999995,  99.99999995,\n",
       "        99.99999996,  99.99999996,  99.99999996,  99.99999997,\n",
       "        99.99999997,  99.99999997,  99.99999998,  99.99999998,\n",
       "        99.99999998,  99.99999999,  99.99999999,  99.99999999,\n",
       "        99.99999999,  99.99999999, 100.        , 100.        ,\n",
       "       100.        , 100.        , 100.        , 100.        ,\n",
       "       100.        , 100.        , 100.        , 100.        ,\n",
       "       100.        , 100.        , 100.        , 100.        ,\n",
       "       100.        , 100.        , 100.        , 100.        ,\n",
       "       100.        , 100.        , 100.        , 100.        ,\n",
       "       100.        , 100.        , 100.        , 100.        ,\n",
       "       100.        , 100.        , 100.        , 100.        ,\n",
       "       100.        , 100.        , 100.        , 100.        ,\n",
       "       100.        , 100.        , 100.        , 100.        ,\n",
       "       100.        , 100.        , 100.        , 100.        ,\n",
       "       100.        , 100.        , 100.        , 100.        ,\n",
       "       100.        , 100.        , 100.        , 100.        ,\n",
       "       100.        , 100.        , 100.        , 100.        ,\n",
       "       100.        , 100.        , 100.        , 100.        ,\n",
       "       100.        , 100.        , 100.        , 100.        ,\n",
       "       100.        , 100.        , 100.        , 100.        ,\n",
       "       100.        , 100.        , 100.        , 100.        ,\n",
       "       100.        , 100.        , 100.        , 100.        ,\n",
       "       100.        , 100.        , 100.        , 100.        ,\n",
       "       100.        , 100.        , 100.        , 100.        ,\n",
       "       100.        , 100.        , 100.        , 100.        ,\n",
       "       100.        , 100.        , 100.        , 100.        ,\n",
       "       100.        , 100.        , 100.        , 100.        ,\n",
       "       100.        , 100.        , 100.        , 100.        ,\n",
       "       100.        , 100.        , 100.        , 100.        ,\n",
       "       100.        , 100.        , 100.        , 100.        ,\n",
       "       100.        , 100.        , 100.        , 100.        ,\n",
       "       100.        ])"
      ]
     },
     "execution_count": 113,
     "metadata": {},
     "output_type": "execute_result"
    }
   ],
   "source": [
    "pcaModel.explained_variance_ratio_.cumsum()*100"
   ]
  },
  {
   "cell_type": "code",
   "execution_count": 114,
   "metadata": {},
   "outputs": [
    {
     "data": {
      "text/plain": [
       "array([[ 9.99998692e-01, -5.06754784e-05,  6.52533775e-05, ...,\n",
       "        -1.56169905e-07, -1.37366006e-07,  4.49828918e-07],\n",
       "       [ 9.75122492e-05, -4.31164878e-02,  3.61239216e-02, ...,\n",
       "        -8.08815596e-05, -6.69854507e-06, -1.81096430e-05],\n",
       "       [-3.39023973e-05,  2.69289143e-02, -1.40379696e-02, ...,\n",
       "         2.09660479e-04,  2.81512075e-05,  2.32668064e-04],\n",
       "       ...,\n",
       "       [-0.00000000e+00, -1.14459811e-17,  8.72286334e-18, ...,\n",
       "        -5.03069808e-17, -5.18248638e-17,  3.00550245e-02],\n",
       "       [-0.00000000e+00,  8.98990241e-19,  3.80574730e-19, ...,\n",
       "        -2.58985410e-18, -2.80664344e-21,  3.00216735e-17],\n",
       "       [ 0.00000000e+00, -1.43954943e-15, -3.86095532e-16, ...,\n",
       "        -1.21172386e-13, -1.48183115e-13,  6.02435091e-03]])"
      ]
     },
     "execution_count": 114,
     "metadata": {},
     "output_type": "execute_result"
    }
   ],
   "source": [
    "pcaModel.components_"
   ]
  },
  {
   "cell_type": "markdown",
   "metadata": {},
   "source": [
    "#### When included ID, ID feature alone is able to explain 99%, but removing ID"
   ]
  },
  {
   "cell_type": "code",
   "execution_count": 115,
   "metadata": {},
   "outputs": [],
   "source": [
    "pcaModel=PCA(n_components=120)"
   ]
  },
  {
   "cell_type": "code",
   "execution_count": 116,
   "metadata": {},
   "outputs": [],
   "source": [
    "x.drop(columns=['ID'],inplace=True)"
   ]
  },
  {
   "cell_type": "code",
   "execution_count": 117,
   "metadata": {},
   "outputs": [
    {
     "data": {
      "text/plain": [
       "PCA(n_components=120)"
      ]
     },
     "execution_count": 117,
     "metadata": {},
     "output_type": "execute_result"
    }
   ],
   "source": [
    "pcaModel.fit(x)"
   ]
  },
  {
   "cell_type": "code",
   "execution_count": 118,
   "metadata": {},
   "outputs": [],
   "source": [
    "x_pca=pd.DataFrame(pcaModel.transform(x))"
   ]
  },
  {
   "cell_type": "code",
   "execution_count": 119,
   "metadata": {},
   "outputs": [
    {
     "data": {
      "text/plain": [
       "array([43.20282156, 60.89115572, 75.22447101, 85.30062774, 88.64466392,\n",
       "       91.54630871, 93.01061418, 93.81255563, 94.40378631, 94.87368225,\n",
       "       95.31828019, 95.71149984, 96.03614549, 96.31764336, 96.56440489,\n",
       "       96.76283087, 96.94915922, 97.11277786, 97.26300386, 97.39855033,\n",
       "       97.52330848, 97.64434536, 97.75395671, 97.85224199, 97.94589747,\n",
       "       98.02939568, 98.10905126, 98.1818174 , 98.25115358, 98.31814291,\n",
       "       98.37977512, 98.43972901, 98.49610814, 98.55126344, 98.60347657,\n",
       "       98.65137927, 98.69601766, 98.73735695, 98.77736422, 98.81510004,\n",
       "       98.85149341, 98.88616659, 98.92018839, 98.95319421, 98.98584932,\n",
       "       99.01507058, 99.04383597, 99.07153896, 99.0985926 , 99.12486474,\n",
       "       99.15097818, 99.1762034 , 99.20037396, 99.22306917, 99.2449455 ,\n",
       "       99.26579457, 99.28631495, 99.30631285, 99.32593575, 99.34484435,\n",
       "       99.36259266, 99.38014009, 99.39673155, 99.41325536, 99.42858607,\n",
       "       99.44356352, 99.45805123, 99.4724448 , 99.48602744, 99.49948212,\n",
       "       99.51238885, 99.52508831, 99.53738217, 99.54926763, 99.56113309,\n",
       "       99.57264122, 99.58387137, 99.59469023, 99.60539245, 99.61578032,\n",
       "       99.62600813, 99.63606017, 99.6456662 , 99.65494787, 99.66393727,\n",
       "       99.67282975, 99.68134009, 99.68977674, 99.69794476, 99.7060354 ,\n",
       "       99.71399293, 99.72192867, 99.72941126, 99.73652438, 99.74354785,\n",
       "       99.75040735, 99.75712575, 99.76377884, 99.77035192, 99.77673978,\n",
       "       99.78286425, 99.78885561, 99.79478162, 99.80045021, 99.80591147,\n",
       "       99.81116913, 99.81638883, 99.82139698, 99.82633415, 99.83117624,\n",
       "       99.83585072, 99.84039043, 99.84486029, 99.84917792, 99.85340264,\n",
       "       99.85748874, 99.86143492, 99.86531632, 99.86894132, 99.87249936])"
      ]
     },
     "execution_count": 119,
     "metadata": {},
     "output_type": "execute_result"
    }
   ],
   "source": [
    "pcaModel.explained_variance_ratio_.cumsum()*100"
   ]
  },
  {
   "cell_type": "code",
   "execution_count": 120,
   "metadata": {},
   "outputs": [
    {
     "data": {
      "text/plain": [
       "array([[-4.27148308e-02,  3.56767785e-02,  9.92940396e-01, ...,\n",
       "        -7.99506372e-05, -6.11403423e-06, -2.10622583e-05],\n",
       "       [ 2.56252910e-02, -1.29151594e-02,  7.85310314e-02, ...,\n",
       "         2.07552604e-04,  2.81303111e-05,  2.39835505e-04],\n",
       "       [ 3.82993695e-02, -2.88120323e-02, -6.39122329e-03, ...,\n",
       "         5.12131482e-05, -1.92171213e-05, -1.87536071e-04],\n",
       "       ...,\n",
       "       [-2.29694376e-03, -2.53903629e-03, -6.64990464e-04, ...,\n",
       "        -1.58748099e-02,  1.25559310e-02,  1.24152356e-02],\n",
       "       [-2.85429087e-03, -1.83798282e-03, -1.08402244e-03, ...,\n",
       "         6.91405961e-03, -7.07227763e-03,  5.67479721e-02],\n",
       "       [-1.21958157e-04,  1.29187429e-03, -3.33344207e-04, ...,\n",
       "         1.34284593e-02,  7.64677777e-03,  2.82768060e-02]])"
      ]
     },
     "execution_count": 120,
     "metadata": {},
     "output_type": "execute_result"
    }
   ],
   "source": [
    "pcaModel.components_"
   ]
  },
  {
   "cell_type": "code",
   "execution_count": 121,
   "metadata": {},
   "outputs": [
    {
     "data": {
      "text/plain": [
       "array([[-4.27148308e-02,  3.56767785e-02,  9.92940396e-01, ...,\n",
       "        -7.99506372e-05, -6.11403423e-06, -2.10622583e-05],\n",
       "       [ 2.56252910e-02, -1.29151594e-02,  7.85310314e-02, ...,\n",
       "         2.07552604e-04,  2.81303111e-05,  2.39835505e-04],\n",
       "       [ 3.82993695e-02, -2.88120323e-02, -6.39122329e-03, ...,\n",
       "         5.12131482e-05, -1.92171213e-05, -1.87536071e-04],\n",
       "       ...,\n",
       "       [-2.29694376e-03, -2.53903629e-03, -6.64990464e-04, ...,\n",
       "        -1.58748099e-02,  1.25559310e-02,  1.24152356e-02],\n",
       "       [-2.85429087e-03, -1.83798282e-03, -1.08402244e-03, ...,\n",
       "         6.91405961e-03, -7.07227763e-03,  5.67479721e-02],\n",
       "       [-1.21958157e-04,  1.29187429e-03, -3.33344207e-04, ...,\n",
       "         1.34284593e-02,  7.64677777e-03,  2.82768060e-02]])"
      ]
     },
     "execution_count": 121,
     "metadata": {},
     "output_type": "execute_result"
    }
   ],
   "source": [
    "pcaModel.components_"
   ]
  },
  {
   "cell_type": "code",
   "execution_count": 122,
   "metadata": {},
   "outputs": [],
   "source": [
    "from sklearn.model_selection import train_test_split"
   ]
  },
  {
   "cell_type": "code",
   "execution_count": 123,
   "metadata": {},
   "outputs": [],
   "source": [
    "x_train,x_test,y_train,y_test=train_test_split(x_pca,y,random_state=10,train_size=0.75)"
   ]
  },
  {
   "cell_type": "code",
   "execution_count": 127,
   "metadata": {},
   "outputs": [],
   "source": [
    "from xgboost import XGBRegressor,plot_importance"
   ]
  },
  {
   "cell_type": "code",
   "execution_count": 128,
   "metadata": {},
   "outputs": [],
   "source": [
    "xgbModel=XGBRegressor(max_depth=3, min_child_weight=4, reg_lambda=1000, gamma = 100)"
   ]
  },
  {
   "cell_type": "markdown",
   "metadata": {},
   "source": [
    "Tried different values of lambda like 10,100,1000, observed scores improvement for higher values of lambda, so will be performing grid search with high values"
   ]
  },
  {
   "cell_type": "code",
   "execution_count": 130,
   "metadata": {},
   "outputs": [
    {
     "data": {
      "text/plain": [
       "XGBRegressor(base_score=0.5, booster='gbtree', colsample_bylevel=1,\n",
       "             colsample_bynode=1, colsample_bytree=1, gamma=100, gpu_id=-1,\n",
       "             importance_type='gain', interaction_constraints='',\n",
       "             learning_rate=0.300000012, max_delta_step=0, max_depth=3,\n",
       "             min_child_weight=4, missing=nan, monotone_constraints='()',\n",
       "             n_estimators=100, n_jobs=4, num_parallel_tree=1, random_state=0,\n",
       "             reg_alpha=0, reg_lambda=1000, scale_pos_weight=1, subsample=1,\n",
       "             tree_method='exact', validate_parameters=1, verbosity=None)"
      ]
     },
     "execution_count": 130,
     "metadata": {},
     "output_type": "execute_result"
    }
   ],
   "source": [
    "xgbModel.fit(x_train,y_train)"
   ]
  },
  {
   "cell_type": "code",
   "execution_count": 131,
   "metadata": {},
   "outputs": [
    {
     "data": {
      "text/plain": [
       "0.6586154645519323"
      ]
     },
     "execution_count": 131,
     "metadata": {},
     "output_type": "execute_result"
    }
   ],
   "source": [
    "xgbModel.score(x_train,y_train)"
   ]
  },
  {
   "cell_type": "code",
   "execution_count": 132,
   "metadata": {},
   "outputs": [
    {
     "data": {
      "text/plain": [
       "0.5205215213749481"
      ]
     },
     "execution_count": 132,
     "metadata": {},
     "output_type": "execute_result"
    }
   ],
   "source": [
    "xgbModel.score(x_test,y_test)"
   ]
  },
  {
   "cell_type": "markdown",
   "metadata": {},
   "source": [
    "Above model is overfit, so now trying with PCA only on categorical features"
   ]
  },
  {
   "cell_type": "markdown",
   "metadata": {},
   "source": [
    "### PCA on categorical features, tried with same number of components, and observed 99.99% variance ratio is achieved by 7 components, so fixed n_components to 7"
   ]
  },
  {
   "cell_type": "code",
   "execution_count": 133,
   "metadata": {},
   "outputs": [],
   "source": [
    "pcaModel=PCA(n_components=7)\n",
    "pcaModel.fit(x.iloc[:,0:9])\n",
    "x_pca_c=pd.DataFrame(pcaModel.transform(x.iloc[:,0:9]),columns=['C1','C2','C3','C4','C5','C6','C7'])"
   ]
  },
  {
   "cell_type": "code",
   "execution_count": 134,
   "metadata": {},
   "outputs": [
    {
     "data": {
      "text/html": [
       "<div>\n",
       "<style scoped>\n",
       "    .dataframe tbody tr th:only-of-type {\n",
       "        vertical-align: middle;\n",
       "    }\n",
       "\n",
       "    .dataframe tbody tr th {\n",
       "        vertical-align: top;\n",
       "    }\n",
       "\n",
       "    .dataframe thead th {\n",
       "        text-align: right;\n",
       "    }\n",
       "</style>\n",
       "<table border=\"1\" class=\"dataframe\">\n",
       "  <thead>\n",
       "    <tr style=\"text-align: right;\">\n",
       "      <th></th>\n",
       "      <th>X0</th>\n",
       "      <th>X1</th>\n",
       "      <th>X2</th>\n",
       "      <th>X3</th>\n",
       "      <th>X4</th>\n",
       "      <th>X5</th>\n",
       "      <th>X6</th>\n",
       "      <th>X8</th>\n",
       "      <th>X10</th>\n",
       "    </tr>\n",
       "  </thead>\n",
       "  <tbody>\n",
       "    <tr>\n",
       "      <td>0</td>\n",
       "      <td>-0.041994</td>\n",
       "      <td>0.035567</td>\n",
       "      <td>0.995136</td>\n",
       "      <td>-0.014716</td>\n",
       "      <td>0.000004</td>\n",
       "      <td>-0.012572</td>\n",
       "      <td>0.018459</td>\n",
       "      <td>-0.077206</td>\n",
       "      <td>0.000410</td>\n",
       "    </tr>\n",
       "    <tr>\n",
       "      <td>1</td>\n",
       "      <td>0.025099</td>\n",
       "      <td>-0.012323</td>\n",
       "      <td>0.079037</td>\n",
       "      <td>-0.004088</td>\n",
       "      <td>0.000014</td>\n",
       "      <td>0.050121</td>\n",
       "      <td>0.012961</td>\n",
       "      <td>0.995125</td>\n",
       "      <td>0.000352</td>\n",
       "    </tr>\n",
       "    <tr>\n",
       "      <td>2</td>\n",
       "      <td>0.036129</td>\n",
       "      <td>-0.028227</td>\n",
       "      <td>-0.006492</td>\n",
       "      <td>-0.001551</td>\n",
       "      <td>0.000195</td>\n",
       "      <td>-0.997632</td>\n",
       "      <td>0.012265</td>\n",
       "      <td>0.049336</td>\n",
       "      <td>0.000198</td>\n",
       "    </tr>\n",
       "    <tr>\n",
       "      <td>3</td>\n",
       "      <td>0.987602</td>\n",
       "      <td>-0.137071</td>\n",
       "      <td>0.043775</td>\n",
       "      <td>-0.035697</td>\n",
       "      <td>-0.000073</td>\n",
       "      <td>0.037979</td>\n",
       "      <td>0.013142</td>\n",
       "      <td>-0.032315</td>\n",
       "      <td>0.002061</td>\n",
       "    </tr>\n",
       "    <tr>\n",
       "      <td>4</td>\n",
       "      <td>0.095537</td>\n",
       "      <td>0.579593</td>\n",
       "      <td>0.000483</td>\n",
       "      <td>0.083113</td>\n",
       "      <td>0.000052</td>\n",
       "      <td>-0.022139</td>\n",
       "      <td>-0.804518</td>\n",
       "      <td>0.016666</td>\n",
       "      <td>-0.004392</td>\n",
       "    </tr>\n",
       "    <tr>\n",
       "      <td>5</td>\n",
       "      <td>-0.106839</td>\n",
       "      <td>-0.794959</td>\n",
       "      <td>0.033837</td>\n",
       "      <td>-0.065469</td>\n",
       "      <td>0.000253</td>\n",
       "      <td>0.011075</td>\n",
       "      <td>-0.592505</td>\n",
       "      <td>-0.002946</td>\n",
       "      <td>0.000470</td>\n",
       "    </tr>\n",
       "    <tr>\n",
       "      <td>6</td>\n",
       "      <td>0.019983</td>\n",
       "      <td>-0.105341</td>\n",
       "      <td>0.018813</td>\n",
       "      <td>0.993623</td>\n",
       "      <td>-0.000288</td>\n",
       "      <td>0.002409</td>\n",
       "      <td>0.029063</td>\n",
       "      <td>0.000278</td>\n",
       "      <td>0.003536</td>\n",
       "    </tr>\n",
       "  </tbody>\n",
       "</table>\n",
       "</div>"
      ],
      "text/plain": [
       "         X0        X1        X2        X3        X4        X5        X6  \\\n",
       "0 -0.041994  0.035567  0.995136 -0.014716  0.000004 -0.012572  0.018459   \n",
       "1  0.025099 -0.012323  0.079037 -0.004088  0.000014  0.050121  0.012961   \n",
       "2  0.036129 -0.028227 -0.006492 -0.001551  0.000195 -0.997632  0.012265   \n",
       "3  0.987602 -0.137071  0.043775 -0.035697 -0.000073  0.037979  0.013142   \n",
       "4  0.095537  0.579593  0.000483  0.083113  0.000052 -0.022139 -0.804518   \n",
       "5 -0.106839 -0.794959  0.033837 -0.065469  0.000253  0.011075 -0.592505   \n",
       "6  0.019983 -0.105341  0.018813  0.993623 -0.000288  0.002409  0.029063   \n",
       "\n",
       "         X8       X10  \n",
       "0 -0.077206  0.000410  \n",
       "1  0.995125  0.000352  \n",
       "2  0.049336  0.000198  \n",
       "3 -0.032315  0.002061  \n",
       "4  0.016666 -0.004392  \n",
       "5 -0.002946  0.000470  \n",
       "6  0.000278  0.003536  "
      ]
     },
     "execution_count": 134,
     "metadata": {},
     "output_type": "execute_result"
    }
   ],
   "source": [
    "pd.DataFrame(pcaModel.components_,columns=(x.iloc[:,0:9]).columns)"
   ]
  },
  {
   "cell_type": "code",
   "execution_count": 135,
   "metadata": {},
   "outputs": [
    {
     "data": {
      "text/plain": [
       "array([0.46844614, 0.66096061, 0.81698729, 0.92338376, 0.95782916,\n",
       "       0.98855397, 0.99994621])"
      ]
     },
     "execution_count": 135,
     "metadata": {},
     "output_type": "execute_result"
    }
   ],
   "source": [
    "pcaModel.explained_variance_ratio_.cumsum()"
   ]
  },
  {
   "cell_type": "code",
   "execution_count": 136,
   "metadata": {},
   "outputs": [],
   "source": [
    "x_pca_c=pd.concat([x_pca_c,merc_train.ID],axis=1)"
   ]
  },
  {
   "cell_type": "code",
   "execution_count": 137,
   "metadata": {},
   "outputs": [],
   "source": [
    "x_non_pca=pd.concat([x.iloc[:,9:],merc_train.ID],axis=1)"
   ]
  },
  {
   "cell_type": "code",
   "execution_count": 138,
   "metadata": {},
   "outputs": [],
   "source": [
    "x_pca=pd.merge(left=x_pca_c,right=x_non_pca,on='ID',how='inner')"
   ]
  },
  {
   "cell_type": "code",
   "execution_count": 139,
   "metadata": {},
   "outputs": [],
   "source": [
    "x_pca.drop(columns=['ID'],inplace=True)"
   ]
  },
  {
   "cell_type": "code",
   "execution_count": 140,
   "metadata": {},
   "outputs": [
    {
     "data": {
      "text/html": [
       "<div>\n",
       "<style scoped>\n",
       "    .dataframe tbody tr th:only-of-type {\n",
       "        vertical-align: middle;\n",
       "    }\n",
       "\n",
       "    .dataframe tbody tr th {\n",
       "        vertical-align: top;\n",
       "    }\n",
       "\n",
       "    .dataframe thead th {\n",
       "        text-align: right;\n",
       "    }\n",
       "</style>\n",
       "<table border=\"1\" class=\"dataframe\">\n",
       "  <thead>\n",
       "    <tr style=\"text-align: right;\">\n",
       "      <th></th>\n",
       "      <th>C1</th>\n",
       "      <th>C2</th>\n",
       "      <th>C3</th>\n",
       "      <th>C4</th>\n",
       "      <th>C5</th>\n",
       "      <th>C6</th>\n",
       "      <th>C7</th>\n",
       "      <th>X12</th>\n",
       "      <th>X13</th>\n",
       "      <th>X14</th>\n",
       "      <th>...</th>\n",
       "      <th>X375</th>\n",
       "      <th>X376</th>\n",
       "      <th>X377</th>\n",
       "      <th>X378</th>\n",
       "      <th>X379</th>\n",
       "      <th>X380</th>\n",
       "      <th>X382</th>\n",
       "      <th>X383</th>\n",
       "      <th>X384</th>\n",
       "      <th>X385</th>\n",
       "    </tr>\n",
       "  </thead>\n",
       "  <tbody>\n",
       "    <tr>\n",
       "      <td>0</td>\n",
       "      <td>0.193327</td>\n",
       "      <td>1.594885</td>\n",
       "      <td>10.920466</td>\n",
       "      <td>-8.118792</td>\n",
       "      <td>0.214146</td>\n",
       "      <td>-4.077209</td>\n",
       "      <td>-3.489872</td>\n",
       "      <td>0</td>\n",
       "      <td>1</td>\n",
       "      <td>0</td>\n",
       "      <td>...</td>\n",
       "      <td>0</td>\n",
       "      <td>0</td>\n",
       "      <td>1</td>\n",
       "      <td>0</td>\n",
       "      <td>0</td>\n",
       "      <td>0</td>\n",
       "      <td>0</td>\n",
       "      <td>0</td>\n",
       "      <td>0</td>\n",
       "      <td>0</td>\n",
       "    </tr>\n",
       "    <tr>\n",
       "      <td>1</td>\n",
       "      <td>1.841548</td>\n",
       "      <td>1.873433</td>\n",
       "      <td>11.179854</td>\n",
       "      <td>-6.914102</td>\n",
       "      <td>-6.277809</td>\n",
       "      <td>1.698214</td>\n",
       "      <td>1.528442</td>\n",
       "      <td>0</td>\n",
       "      <td>0</td>\n",
       "      <td>0</td>\n",
       "      <td>...</td>\n",
       "      <td>1</td>\n",
       "      <td>0</td>\n",
       "      <td>0</td>\n",
       "      <td>0</td>\n",
       "      <td>0</td>\n",
       "      <td>0</td>\n",
       "      <td>0</td>\n",
       "      <td>0</td>\n",
       "      <td>0</td>\n",
       "      <td>0</td>\n",
       "    </tr>\n",
       "    <tr>\n",
       "      <td>2</td>\n",
       "      <td>15.856278</td>\n",
       "      <td>12.122858</td>\n",
       "      <td>11.685712</td>\n",
       "      <td>-1.565185</td>\n",
       "      <td>-4.200067</td>\n",
       "      <td>2.961009</td>\n",
       "      <td>-0.132317</td>\n",
       "      <td>0</td>\n",
       "      <td>0</td>\n",
       "      <td>0</td>\n",
       "      <td>...</td>\n",
       "      <td>0</td>\n",
       "      <td>0</td>\n",
       "      <td>0</td>\n",
       "      <td>0</td>\n",
       "      <td>0</td>\n",
       "      <td>0</td>\n",
       "      <td>1</td>\n",
       "      <td>0</td>\n",
       "      <td>0</td>\n",
       "      <td>0</td>\n",
       "    </tr>\n",
       "    <tr>\n",
       "      <td>3</td>\n",
       "      <td>17.315957</td>\n",
       "      <td>-6.770865</td>\n",
       "      <td>10.768200</td>\n",
       "      <td>-1.032015</td>\n",
       "      <td>-5.876418</td>\n",
       "      <td>1.635576</td>\n",
       "      <td>2.901396</td>\n",
       "      <td>0</td>\n",
       "      <td>0</td>\n",
       "      <td>0</td>\n",
       "      <td>...</td>\n",
       "      <td>0</td>\n",
       "      <td>0</td>\n",
       "      <td>0</td>\n",
       "      <td>0</td>\n",
       "      <td>0</td>\n",
       "      <td>0</td>\n",
       "      <td>0</td>\n",
       "      <td>0</td>\n",
       "      <td>0</td>\n",
       "      <td>0</td>\n",
       "    </tr>\n",
       "    <tr>\n",
       "      <td>4</td>\n",
       "      <td>16.793541</td>\n",
       "      <td>1.970668</td>\n",
       "      <td>10.860060</td>\n",
       "      <td>-2.661626</td>\n",
       "      <td>5.926057</td>\n",
       "      <td>-0.805536</td>\n",
       "      <td>1.723326</td>\n",
       "      <td>0</td>\n",
       "      <td>0</td>\n",
       "      <td>0</td>\n",
       "      <td>...</td>\n",
       "      <td>0</td>\n",
       "      <td>0</td>\n",
       "      <td>0</td>\n",
       "      <td>0</td>\n",
       "      <td>0</td>\n",
       "      <td>0</td>\n",
       "      <td>0</td>\n",
       "      <td>0</td>\n",
       "      <td>0</td>\n",
       "      <td>0</td>\n",
       "    </tr>\n",
       "    <tr>\n",
       "      <td>...</td>\n",
       "      <td>...</td>\n",
       "      <td>...</td>\n",
       "      <td>...</td>\n",
       "      <td>...</td>\n",
       "      <td>...</td>\n",
       "      <td>...</td>\n",
       "      <td>...</td>\n",
       "      <td>...</td>\n",
       "      <td>...</td>\n",
       "      <td>...</td>\n",
       "      <td>...</td>\n",
       "      <td>...</td>\n",
       "      <td>...</td>\n",
       "      <td>...</td>\n",
       "      <td>...</td>\n",
       "      <td>...</td>\n",
       "      <td>...</td>\n",
       "      <td>...</td>\n",
       "      <td>...</td>\n",
       "      <td>...</td>\n",
       "      <td>...</td>\n",
       "    </tr>\n",
       "    <tr>\n",
       "      <td>4202</td>\n",
       "      <td>21.711301</td>\n",
       "      <td>-6.635164</td>\n",
       "      <td>9.328592</td>\n",
       "      <td>-4.902609</td>\n",
       "      <td>2.640128</td>\n",
       "      <td>-1.762248</td>\n",
       "      <td>-3.142389</td>\n",
       "      <td>0</td>\n",
       "      <td>0</td>\n",
       "      <td>1</td>\n",
       "      <td>...</td>\n",
       "      <td>1</td>\n",
       "      <td>0</td>\n",
       "      <td>0</td>\n",
       "      <td>0</td>\n",
       "      <td>0</td>\n",
       "      <td>0</td>\n",
       "      <td>0</td>\n",
       "      <td>0</td>\n",
       "      <td>0</td>\n",
       "      <td>0</td>\n",
       "    </tr>\n",
       "    <tr>\n",
       "      <td>4203</td>\n",
       "      <td>7.570811</td>\n",
       "      <td>8.278180</td>\n",
       "      <td>10.240145</td>\n",
       "      <td>-7.802556</td>\n",
       "      <td>-2.056790</td>\n",
       "      <td>-3.735550</td>\n",
       "      <td>1.901634</td>\n",
       "      <td>0</td>\n",
       "      <td>0</td>\n",
       "      <td>0</td>\n",
       "      <td>...</td>\n",
       "      <td>0</td>\n",
       "      <td>1</td>\n",
       "      <td>0</td>\n",
       "      <td>0</td>\n",
       "      <td>0</td>\n",
       "      <td>0</td>\n",
       "      <td>0</td>\n",
       "      <td>0</td>\n",
       "      <td>0</td>\n",
       "      <td>0</td>\n",
       "    </tr>\n",
       "    <tr>\n",
       "      <td>4204</td>\n",
       "      <td>-15.154643</td>\n",
       "      <td>8.853562</td>\n",
       "      <td>10.966916</td>\n",
       "      <td>6.025165</td>\n",
       "      <td>3.172222</td>\n",
       "      <td>-2.929518</td>\n",
       "      <td>-1.338146</td>\n",
       "      <td>1</td>\n",
       "      <td>1</td>\n",
       "      <td>0</td>\n",
       "      <td>...</td>\n",
       "      <td>0</td>\n",
       "      <td>0</td>\n",
       "      <td>1</td>\n",
       "      <td>0</td>\n",
       "      <td>0</td>\n",
       "      <td>0</td>\n",
       "      <td>0</td>\n",
       "      <td>0</td>\n",
       "      <td>0</td>\n",
       "      <td>0</td>\n",
       "    </tr>\n",
       "    <tr>\n",
       "      <td>4205</td>\n",
       "      <td>NaN</td>\n",
       "      <td>NaN</td>\n",
       "      <td>NaN</td>\n",
       "      <td>NaN</td>\n",
       "      <td>NaN</td>\n",
       "      <td>NaN</td>\n",
       "      <td>NaN</td>\n",
       "      <td>0</td>\n",
       "      <td>0</td>\n",
       "      <td>1</td>\n",
       "      <td>...</td>\n",
       "      <td>0</td>\n",
       "      <td>0</td>\n",
       "      <td>0</td>\n",
       "      <td>0</td>\n",
       "      <td>0</td>\n",
       "      <td>0</td>\n",
       "      <td>0</td>\n",
       "      <td>0</td>\n",
       "      <td>0</td>\n",
       "      <td>0</td>\n",
       "    </tr>\n",
       "    <tr>\n",
       "      <td>4206</td>\n",
       "      <td>NaN</td>\n",
       "      <td>NaN</td>\n",
       "      <td>NaN</td>\n",
       "      <td>NaN</td>\n",
       "      <td>NaN</td>\n",
       "      <td>NaN</td>\n",
       "      <td>NaN</td>\n",
       "      <td>0</td>\n",
       "      <td>0</td>\n",
       "      <td>0</td>\n",
       "      <td>...</td>\n",
       "      <td>1</td>\n",
       "      <td>0</td>\n",
       "      <td>0</td>\n",
       "      <td>0</td>\n",
       "      <td>0</td>\n",
       "      <td>0</td>\n",
       "      <td>0</td>\n",
       "      <td>0</td>\n",
       "      <td>0</td>\n",
       "      <td>0</td>\n",
       "    </tr>\n",
       "  </tbody>\n",
       "</table>\n",
       "<p>4207 rows × 362 columns</p>\n",
       "</div>"
      ],
      "text/plain": [
       "             C1         C2         C3        C4        C5        C6        C7  \\\n",
       "0      0.193327   1.594885  10.920466 -8.118792  0.214146 -4.077209 -3.489872   \n",
       "1      1.841548   1.873433  11.179854 -6.914102 -6.277809  1.698214  1.528442   \n",
       "2     15.856278  12.122858  11.685712 -1.565185 -4.200067  2.961009 -0.132317   \n",
       "3     17.315957  -6.770865  10.768200 -1.032015 -5.876418  1.635576  2.901396   \n",
       "4     16.793541   1.970668  10.860060 -2.661626  5.926057 -0.805536  1.723326   \n",
       "...         ...        ...        ...       ...       ...       ...       ...   \n",
       "4202  21.711301  -6.635164   9.328592 -4.902609  2.640128 -1.762248 -3.142389   \n",
       "4203   7.570811   8.278180  10.240145 -7.802556 -2.056790 -3.735550  1.901634   \n",
       "4204 -15.154643   8.853562  10.966916  6.025165  3.172222 -2.929518 -1.338146   \n",
       "4205        NaN        NaN        NaN       NaN       NaN       NaN       NaN   \n",
       "4206        NaN        NaN        NaN       NaN       NaN       NaN       NaN   \n",
       "\n",
       "      X12  X13  X14  ...  X375  X376  X377  X378  X379  X380  X382  X383  \\\n",
       "0       0    1    0  ...     0     0     1     0     0     0     0     0   \n",
       "1       0    0    0  ...     1     0     0     0     0     0     0     0   \n",
       "2       0    0    0  ...     0     0     0     0     0     0     1     0   \n",
       "3       0    0    0  ...     0     0     0     0     0     0     0     0   \n",
       "4       0    0    0  ...     0     0     0     0     0     0     0     0   \n",
       "...   ...  ...  ...  ...   ...   ...   ...   ...   ...   ...   ...   ...   \n",
       "4202    0    0    1  ...     1     0     0     0     0     0     0     0   \n",
       "4203    0    0    0  ...     0     1     0     0     0     0     0     0   \n",
       "4204    1    1    0  ...     0     0     1     0     0     0     0     0   \n",
       "4205    0    0    1  ...     0     0     0     0     0     0     0     0   \n",
       "4206    0    0    0  ...     1     0     0     0     0     0     0     0   \n",
       "\n",
       "      X384  X385  \n",
       "0        0     0  \n",
       "1        0     0  \n",
       "2        0     0  \n",
       "3        0     0  \n",
       "4        0     0  \n",
       "...    ...   ...  \n",
       "4202     0     0  \n",
       "4203     0     0  \n",
       "4204     0     0  \n",
       "4205     0     0  \n",
       "4206     0     0  \n",
       "\n",
       "[4207 rows x 362 columns]"
      ]
     },
     "execution_count": 140,
     "metadata": {},
     "output_type": "execute_result"
    }
   ],
   "source": [
    "x_pca"
   ]
  },
  {
   "cell_type": "markdown",
   "metadata": {},
   "source": [
    "### Defining a function to perform PCA on categorical features using the above approach"
   ]
  },
  {
   "cell_type": "code",
   "execution_count": 141,
   "metadata": {},
   "outputs": [],
   "source": [
    "def perform_pca(df,x):\n",
    "    pcaModel=PCA(n_components=7)\n",
    "    pcaModel.fit(x.iloc[:,0:9])\n",
    "    x_pca_c=pd.DataFrame(pcaModel.transform(x.iloc[:,0:9]),columns=['C1','C2','C3','C4','C5','C6','C7'])\n",
    "    x_pca_c=pd.concat([x_pca_c,df.ID],axis=1)\n",
    "    x_non_pca=pd.concat([x.iloc[:,9:],df.ID],axis=1)\n",
    "    x_pca=pd.merge(left=x_pca_c,right=x_non_pca,on='ID',how='inner')\n",
    "    x_pca.drop(columns=['ID'],inplace=True)\n",
    "    return x_pca"
   ]
  },
  {
   "cell_type": "code",
   "execution_count": 142,
   "metadata": {},
   "outputs": [],
   "source": [
    "x_pca=perform_pca(merc_train,x)"
   ]
  },
  {
   "cell_type": "code",
   "execution_count": 143,
   "metadata": {},
   "outputs": [
    {
     "data": {
      "text/html": [
       "<div>\n",
       "<style scoped>\n",
       "    .dataframe tbody tr th:only-of-type {\n",
       "        vertical-align: middle;\n",
       "    }\n",
       "\n",
       "    .dataframe tbody tr th {\n",
       "        vertical-align: top;\n",
       "    }\n",
       "\n",
       "    .dataframe thead th {\n",
       "        text-align: right;\n",
       "    }\n",
       "</style>\n",
       "<table border=\"1\" class=\"dataframe\">\n",
       "  <thead>\n",
       "    <tr style=\"text-align: right;\">\n",
       "      <th></th>\n",
       "      <th>C1</th>\n",
       "      <th>C2</th>\n",
       "      <th>C3</th>\n",
       "      <th>C4</th>\n",
       "      <th>C5</th>\n",
       "      <th>C6</th>\n",
       "      <th>C7</th>\n",
       "      <th>X12</th>\n",
       "      <th>X13</th>\n",
       "      <th>X14</th>\n",
       "      <th>...</th>\n",
       "      <th>X375</th>\n",
       "      <th>X376</th>\n",
       "      <th>X377</th>\n",
       "      <th>X378</th>\n",
       "      <th>X379</th>\n",
       "      <th>X380</th>\n",
       "      <th>X382</th>\n",
       "      <th>X383</th>\n",
       "      <th>X384</th>\n",
       "      <th>X385</th>\n",
       "    </tr>\n",
       "  </thead>\n",
       "  <tbody>\n",
       "    <tr>\n",
       "      <td>0</td>\n",
       "      <td>0.193327</td>\n",
       "      <td>1.594885</td>\n",
       "      <td>10.920466</td>\n",
       "      <td>-8.118792</td>\n",
       "      <td>0.214146</td>\n",
       "      <td>-4.077209</td>\n",
       "      <td>-3.489872</td>\n",
       "      <td>0</td>\n",
       "      <td>1</td>\n",
       "      <td>0</td>\n",
       "      <td>...</td>\n",
       "      <td>0</td>\n",
       "      <td>0</td>\n",
       "      <td>1</td>\n",
       "      <td>0</td>\n",
       "      <td>0</td>\n",
       "      <td>0</td>\n",
       "      <td>0</td>\n",
       "      <td>0</td>\n",
       "      <td>0</td>\n",
       "      <td>0</td>\n",
       "    </tr>\n",
       "    <tr>\n",
       "      <td>1</td>\n",
       "      <td>1.841548</td>\n",
       "      <td>1.873433</td>\n",
       "      <td>11.179854</td>\n",
       "      <td>-6.914102</td>\n",
       "      <td>-6.277809</td>\n",
       "      <td>1.698214</td>\n",
       "      <td>1.528442</td>\n",
       "      <td>0</td>\n",
       "      <td>0</td>\n",
       "      <td>0</td>\n",
       "      <td>...</td>\n",
       "      <td>1</td>\n",
       "      <td>0</td>\n",
       "      <td>0</td>\n",
       "      <td>0</td>\n",
       "      <td>0</td>\n",
       "      <td>0</td>\n",
       "      <td>0</td>\n",
       "      <td>0</td>\n",
       "      <td>0</td>\n",
       "      <td>0</td>\n",
       "    </tr>\n",
       "    <tr>\n",
       "      <td>2</td>\n",
       "      <td>15.856278</td>\n",
       "      <td>12.122858</td>\n",
       "      <td>11.685712</td>\n",
       "      <td>-1.565185</td>\n",
       "      <td>-4.200067</td>\n",
       "      <td>2.961009</td>\n",
       "      <td>-0.132317</td>\n",
       "      <td>0</td>\n",
       "      <td>0</td>\n",
       "      <td>0</td>\n",
       "      <td>...</td>\n",
       "      <td>0</td>\n",
       "      <td>0</td>\n",
       "      <td>0</td>\n",
       "      <td>0</td>\n",
       "      <td>0</td>\n",
       "      <td>0</td>\n",
       "      <td>1</td>\n",
       "      <td>0</td>\n",
       "      <td>0</td>\n",
       "      <td>0</td>\n",
       "    </tr>\n",
       "    <tr>\n",
       "      <td>3</td>\n",
       "      <td>17.315957</td>\n",
       "      <td>-6.770865</td>\n",
       "      <td>10.768200</td>\n",
       "      <td>-1.032015</td>\n",
       "      <td>-5.876418</td>\n",
       "      <td>1.635576</td>\n",
       "      <td>2.901396</td>\n",
       "      <td>0</td>\n",
       "      <td>0</td>\n",
       "      <td>0</td>\n",
       "      <td>...</td>\n",
       "      <td>0</td>\n",
       "      <td>0</td>\n",
       "      <td>0</td>\n",
       "      <td>0</td>\n",
       "      <td>0</td>\n",
       "      <td>0</td>\n",
       "      <td>0</td>\n",
       "      <td>0</td>\n",
       "      <td>0</td>\n",
       "      <td>0</td>\n",
       "    </tr>\n",
       "    <tr>\n",
       "      <td>4</td>\n",
       "      <td>16.793541</td>\n",
       "      <td>1.970668</td>\n",
       "      <td>10.860060</td>\n",
       "      <td>-2.661626</td>\n",
       "      <td>5.926057</td>\n",
       "      <td>-0.805536</td>\n",
       "      <td>1.723326</td>\n",
       "      <td>0</td>\n",
       "      <td>0</td>\n",
       "      <td>0</td>\n",
       "      <td>...</td>\n",
       "      <td>0</td>\n",
       "      <td>0</td>\n",
       "      <td>0</td>\n",
       "      <td>0</td>\n",
       "      <td>0</td>\n",
       "      <td>0</td>\n",
       "      <td>0</td>\n",
       "      <td>0</td>\n",
       "      <td>0</td>\n",
       "      <td>0</td>\n",
       "    </tr>\n",
       "  </tbody>\n",
       "</table>\n",
       "<p>5 rows × 362 columns</p>\n",
       "</div>"
      ],
      "text/plain": [
       "          C1         C2         C3        C4        C5        C6        C7  \\\n",
       "0   0.193327   1.594885  10.920466 -8.118792  0.214146 -4.077209 -3.489872   \n",
       "1   1.841548   1.873433  11.179854 -6.914102 -6.277809  1.698214  1.528442   \n",
       "2  15.856278  12.122858  11.685712 -1.565185 -4.200067  2.961009 -0.132317   \n",
       "3  17.315957  -6.770865  10.768200 -1.032015 -5.876418  1.635576  2.901396   \n",
       "4  16.793541   1.970668  10.860060 -2.661626  5.926057 -0.805536  1.723326   \n",
       "\n",
       "   X12  X13  X14  ...  X375  X376  X377  X378  X379  X380  X382  X383  X384  \\\n",
       "0    0    1    0  ...     0     0     1     0     0     0     0     0     0   \n",
       "1    0    0    0  ...     1     0     0     0     0     0     0     0     0   \n",
       "2    0    0    0  ...     0     0     0     0     0     0     1     0     0   \n",
       "3    0    0    0  ...     0     0     0     0     0     0     0     0     0   \n",
       "4    0    0    0  ...     0     0     0     0     0     0     0     0     0   \n",
       "\n",
       "   X385  \n",
       "0     0  \n",
       "1     0  \n",
       "2     0  \n",
       "3     0  \n",
       "4     0  \n",
       "\n",
       "[5 rows x 362 columns]"
      ]
     },
     "execution_count": 143,
     "metadata": {},
     "output_type": "execute_result"
    }
   ],
   "source": [
    "x_pca.head()"
   ]
  },
  {
   "cell_type": "code",
   "execution_count": 144,
   "metadata": {},
   "outputs": [
    {
     "name": "stdout",
     "output_type": "stream",
     "text": [
      "0.6387669906256734\n",
      "0.5616967173499763\n"
     ]
    }
   ],
   "source": [
    "x_train,x_test,y_train,y_test=train_test_split(x_pca,y,random_state=10,train_size=0.75)\n",
    "xgbModel=XGBRegressor(max_depth=4, min_child_weight=5, reg_lambda=100, gamma = 200)\n",
    "xgbModel.fit(x_train,y_train)\n",
    "print(xgbModel.score(x_train,y_train))\n",
    "print(xgbModel.score(x_test,y_test))"
   ]
  },
  {
   "cell_type": "markdown",
   "metadata": {},
   "source": [
    "#### Grid Search with cv=5"
   ]
  },
  {
   "cell_type": "code",
   "execution_count": 145,
   "metadata": {},
   "outputs": [],
   "source": [
    "from sklearn.model_selection import GridSearchCV"
   ]
  },
  {
   "cell_type": "code",
   "execution_count": 148,
   "metadata": {},
   "outputs": [
    {
     "name": "stdout",
     "output_type": "stream",
     "text": [
      "Fitting 5 folds for each of 27 candidates, totalling 135 fits\n",
      "[CV 1/5] END ..gamma=100, min_child_weight=4, reg_lambda=100; total time=   2.8s\n",
      "[CV 2/5] END ..gamma=100, min_child_weight=4, reg_lambda=100; total time=   2.9s\n",
      "[CV 3/5] END ..gamma=100, min_child_weight=4, reg_lambda=100; total time=   2.7s\n",
      "[CV 4/5] END ..gamma=100, min_child_weight=4, reg_lambda=100; total time=   3.0s\n",
      "[CV 5/5] END ..gamma=100, min_child_weight=4, reg_lambda=100; total time=   3.1s\n",
      "[CV 1/5] END ..gamma=100, min_child_weight=4, reg_lambda=200; total time=   3.1s\n",
      "[CV 2/5] END ..gamma=100, min_child_weight=4, reg_lambda=200; total time=   3.2s\n",
      "[CV 3/5] END ..gamma=100, min_child_weight=4, reg_lambda=200; total time=   2.8s\n",
      "[CV 4/5] END ..gamma=100, min_child_weight=4, reg_lambda=200; total time=   3.1s\n",
      "[CV 5/5] END ..gamma=100, min_child_weight=4, reg_lambda=200; total time=   3.0s\n",
      "[CV 1/5] END ..gamma=100, min_child_weight=4, reg_lambda=500; total time=   3.1s\n",
      "[CV 2/5] END ..gamma=100, min_child_weight=4, reg_lambda=500; total time=   3.0s\n",
      "[CV 3/5] END ..gamma=100, min_child_weight=4, reg_lambda=500; total time=   3.2s\n",
      "[CV 4/5] END ..gamma=100, min_child_weight=4, reg_lambda=500; total time=   3.0s\n",
      "[CV 5/5] END ..gamma=100, min_child_weight=4, reg_lambda=500; total time=   3.0s\n",
      "[CV 1/5] END ..gamma=100, min_child_weight=5, reg_lambda=100; total time=   2.8s\n",
      "[CV 2/5] END ..gamma=100, min_child_weight=5, reg_lambda=100; total time=   3.1s\n",
      "[CV 3/5] END ..gamma=100, min_child_weight=5, reg_lambda=100; total time=   3.4s\n",
      "[CV 4/5] END ..gamma=100, min_child_weight=5, reg_lambda=100; total time=   3.9s\n",
      "[CV 5/5] END ..gamma=100, min_child_weight=5, reg_lambda=100; total time=   3.3s\n",
      "[CV 1/5] END ..gamma=100, min_child_weight=5, reg_lambda=200; total time=   3.0s\n",
      "[CV 2/5] END ..gamma=100, min_child_weight=5, reg_lambda=200; total time=   3.1s\n",
      "[CV 3/5] END ..gamma=100, min_child_weight=5, reg_lambda=200; total time=   3.6s\n",
      "[CV 4/5] END ..gamma=100, min_child_weight=5, reg_lambda=200; total time=   2.9s\n",
      "[CV 5/5] END ..gamma=100, min_child_weight=5, reg_lambda=200; total time=   3.3s\n",
      "[CV 1/5] END ..gamma=100, min_child_weight=5, reg_lambda=500; total time=   3.4s\n",
      "[CV 2/5] END ..gamma=100, min_child_weight=5, reg_lambda=500; total time=   2.9s\n",
      "[CV 3/5] END ..gamma=100, min_child_weight=5, reg_lambda=500; total time=   2.8s\n",
      "[CV 4/5] END ..gamma=100, min_child_weight=5, reg_lambda=500; total time=   3.4s\n",
      "[CV 5/5] END ..gamma=100, min_child_weight=5, reg_lambda=500; total time=   3.3s\n",
      "[CV 1/5] END ..gamma=100, min_child_weight=6, reg_lambda=100; total time=   3.3s\n",
      "[CV 2/5] END ..gamma=100, min_child_weight=6, reg_lambda=100; total time=   2.9s\n",
      "[CV 3/5] END ..gamma=100, min_child_weight=6, reg_lambda=100; total time=   2.8s\n",
      "[CV 4/5] END ..gamma=100, min_child_weight=6, reg_lambda=100; total time=   3.1s\n",
      "[CV 5/5] END ..gamma=100, min_child_weight=6, reg_lambda=100; total time=   2.9s\n",
      "[CV 1/5] END ..gamma=100, min_child_weight=6, reg_lambda=200; total time=   2.8s\n",
      "[CV 2/5] END ..gamma=100, min_child_weight=6, reg_lambda=200; total time=   3.6s\n",
      "[CV 3/5] END ..gamma=100, min_child_weight=6, reg_lambda=200; total time=   3.6s\n",
      "[CV 4/5] END ..gamma=100, min_child_weight=6, reg_lambda=200; total time=   3.8s\n",
      "[CV 5/5] END ..gamma=100, min_child_weight=6, reg_lambda=200; total time=   3.2s\n",
      "[CV 1/5] END ..gamma=100, min_child_weight=6, reg_lambda=500; total time=   3.0s\n",
      "[CV 2/5] END ..gamma=100, min_child_weight=6, reg_lambda=500; total time=   2.9s\n",
      "[CV 3/5] END ..gamma=100, min_child_weight=6, reg_lambda=500; total time=   4.1s\n",
      "[CV 4/5] END ..gamma=100, min_child_weight=6, reg_lambda=500; total time=   3.6s\n",
      "[CV 5/5] END ..gamma=100, min_child_weight=6, reg_lambda=500; total time=   3.4s\n",
      "[CV 1/5] END ..gamma=150, min_child_weight=4, reg_lambda=100; total time=   3.1s\n",
      "[CV 2/5] END ..gamma=150, min_child_weight=4, reg_lambda=100; total time=   4.0s\n",
      "[CV 3/5] END ..gamma=150, min_child_weight=4, reg_lambda=100; total time=   4.2s\n",
      "[CV 4/5] END ..gamma=150, min_child_weight=4, reg_lambda=100; total time=   4.3s\n",
      "[CV 5/5] END ..gamma=150, min_child_weight=4, reg_lambda=100; total time=   3.5s\n",
      "[CV 1/5] END ..gamma=150, min_child_weight=4, reg_lambda=200; total time=   5.2s\n",
      "[CV 2/5] END ..gamma=150, min_child_weight=4, reg_lambda=200; total time=   3.9s\n",
      "[CV 3/5] END ..gamma=150, min_child_weight=4, reg_lambda=200; total time=   3.4s\n",
      "[CV 4/5] END ..gamma=150, min_child_weight=4, reg_lambda=200; total time=   3.4s\n",
      "[CV 5/5] END ..gamma=150, min_child_weight=4, reg_lambda=200; total time=   3.0s\n",
      "[CV 1/5] END ..gamma=150, min_child_weight=4, reg_lambda=500; total time=   3.1s\n",
      "[CV 2/5] END ..gamma=150, min_child_weight=4, reg_lambda=500; total time=   3.3s\n",
      "[CV 3/5] END ..gamma=150, min_child_weight=4, reg_lambda=500; total time=   4.4s\n",
      "[CV 4/5] END ..gamma=150, min_child_weight=4, reg_lambda=500; total time=   3.0s\n",
      "[CV 5/5] END ..gamma=150, min_child_weight=4, reg_lambda=500; total time=   3.5s\n",
      "[CV 1/5] END ..gamma=150, min_child_weight=5, reg_lambda=100; total time=   3.4s\n",
      "[CV 2/5] END ..gamma=150, min_child_weight=5, reg_lambda=100; total time=   3.7s\n",
      "[CV 3/5] END ..gamma=150, min_child_weight=5, reg_lambda=100; total time=   4.9s\n",
      "[CV 4/5] END ..gamma=150, min_child_weight=5, reg_lambda=100; total time=   3.7s\n",
      "[CV 5/5] END ..gamma=150, min_child_weight=5, reg_lambda=100; total time=   3.0s\n",
      "[CV 1/5] END ..gamma=150, min_child_weight=5, reg_lambda=200; total time=   3.0s\n",
      "[CV 2/5] END ..gamma=150, min_child_weight=5, reg_lambda=200; total time=   3.1s\n",
      "[CV 3/5] END ..gamma=150, min_child_weight=5, reg_lambda=200; total time=   3.8s\n",
      "[CV 4/5] END ..gamma=150, min_child_weight=5, reg_lambda=200; total time=   3.6s\n",
      "[CV 5/5] END ..gamma=150, min_child_weight=5, reg_lambda=200; total time=   3.1s\n",
      "[CV 1/5] END ..gamma=150, min_child_weight=5, reg_lambda=500; total time=   3.4s\n",
      "[CV 2/5] END ..gamma=150, min_child_weight=5, reg_lambda=500; total time=   3.6s\n",
      "[CV 3/5] END ..gamma=150, min_child_weight=5, reg_lambda=500; total time=   3.1s\n",
      "[CV 4/5] END ..gamma=150, min_child_weight=5, reg_lambda=500; total time=   3.0s\n",
      "[CV 5/5] END ..gamma=150, min_child_weight=5, reg_lambda=500; total time=   3.3s\n",
      "[CV 1/5] END ..gamma=150, min_child_weight=6, reg_lambda=100; total time=   3.7s\n",
      "[CV 2/5] END ..gamma=150, min_child_weight=6, reg_lambda=100; total time=   3.3s\n",
      "[CV 3/5] END ..gamma=150, min_child_weight=6, reg_lambda=100; total time=   3.0s\n",
      "[CV 4/5] END ..gamma=150, min_child_weight=6, reg_lambda=100; total time=   3.2s\n",
      "[CV 5/5] END ..gamma=150, min_child_weight=6, reg_lambda=100; total time=   4.1s\n",
      "[CV 1/5] END ..gamma=150, min_child_weight=6, reg_lambda=200; total time=   3.7s\n",
      "[CV 2/5] END ..gamma=150, min_child_weight=6, reg_lambda=200; total time=   3.6s\n",
      "[CV 3/5] END ..gamma=150, min_child_weight=6, reg_lambda=200; total time=   4.1s\n",
      "[CV 4/5] END ..gamma=150, min_child_weight=6, reg_lambda=200; total time=   3.2s\n",
      "[CV 5/5] END ..gamma=150, min_child_weight=6, reg_lambda=200; total time=   3.5s\n",
      "[CV 1/5] END ..gamma=150, min_child_weight=6, reg_lambda=500; total time=   3.7s\n",
      "[CV 2/5] END ..gamma=150, min_child_weight=6, reg_lambda=500; total time=   3.7s\n",
      "[CV 3/5] END ..gamma=150, min_child_weight=6, reg_lambda=500; total time=   4.0s\n",
      "[CV 4/5] END ..gamma=150, min_child_weight=6, reg_lambda=500; total time=   3.4s\n",
      "[CV 5/5] END ..gamma=150, min_child_weight=6, reg_lambda=500; total time=   3.4s\n",
      "[CV 1/5] END ..gamma=200, min_child_weight=4, reg_lambda=100; total time=   5.1s\n",
      "[CV 2/5] END ..gamma=200, min_child_weight=4, reg_lambda=100; total time=   4.4s\n",
      "[CV 3/5] END ..gamma=200, min_child_weight=4, reg_lambda=100; total time=   5.2s\n",
      "[CV 4/5] END ..gamma=200, min_child_weight=4, reg_lambda=100; total time=   3.6s\n",
      "[CV 5/5] END ..gamma=200, min_child_weight=4, reg_lambda=100; total time=   3.2s\n",
      "[CV 1/5] END ..gamma=200, min_child_weight=4, reg_lambda=200; total time=   4.0s\n",
      "[CV 2/5] END ..gamma=200, min_child_weight=4, reg_lambda=200; total time=   3.3s\n",
      "[CV 3/5] END ..gamma=200, min_child_weight=4, reg_lambda=200; total time=   3.7s\n",
      "[CV 4/5] END ..gamma=200, min_child_weight=4, reg_lambda=200; total time=   3.1s\n",
      "[CV 5/5] END ..gamma=200, min_child_weight=4, reg_lambda=200; total time=   3.2s\n",
      "[CV 1/5] END ..gamma=200, min_child_weight=4, reg_lambda=500; total time=   3.8s\n"
     ]
    },
    {
     "name": "stdout",
     "output_type": "stream",
     "text": [
      "[CV 2/5] END ..gamma=200, min_child_weight=4, reg_lambda=500; total time=   3.4s\n",
      "[CV 3/5] END ..gamma=200, min_child_weight=4, reg_lambda=500; total time=   3.9s\n",
      "[CV 4/5] END ..gamma=200, min_child_weight=4, reg_lambda=500; total time=   4.2s\n",
      "[CV 5/5] END ..gamma=200, min_child_weight=4, reg_lambda=500; total time=   3.3s\n",
      "[CV 1/5] END ..gamma=200, min_child_weight=5, reg_lambda=100; total time=   3.5s\n",
      "[CV 2/5] END ..gamma=200, min_child_weight=5, reg_lambda=100; total time=   3.4s\n",
      "[CV 3/5] END ..gamma=200, min_child_weight=5, reg_lambda=100; total time=   3.7s\n",
      "[CV 4/5] END ..gamma=200, min_child_weight=5, reg_lambda=100; total time=   3.8s\n",
      "[CV 5/5] END ..gamma=200, min_child_weight=5, reg_lambda=100; total time=   3.1s\n",
      "[CV 1/5] END ..gamma=200, min_child_weight=5, reg_lambda=200; total time=   3.6s\n",
      "[CV 2/5] END ..gamma=200, min_child_weight=5, reg_lambda=200; total time=   3.7s\n",
      "[CV 3/5] END ..gamma=200, min_child_weight=5, reg_lambda=200; total time=   3.8s\n",
      "[CV 4/5] END ..gamma=200, min_child_weight=5, reg_lambda=200; total time=   3.4s\n",
      "[CV 5/5] END ..gamma=200, min_child_weight=5, reg_lambda=200; total time=   3.4s\n",
      "[CV 1/5] END ..gamma=200, min_child_weight=5, reg_lambda=500; total time=   3.5s\n",
      "[CV 2/5] END ..gamma=200, min_child_weight=5, reg_lambda=500; total time=   3.7s\n",
      "[CV 3/5] END ..gamma=200, min_child_weight=5, reg_lambda=500; total time=   4.1s\n",
      "[CV 4/5] END ..gamma=200, min_child_weight=5, reg_lambda=500; total time=   3.3s\n",
      "[CV 5/5] END ..gamma=200, min_child_weight=5, reg_lambda=500; total time=   3.5s\n",
      "[CV 1/5] END ..gamma=200, min_child_weight=6, reg_lambda=100; total time=   4.4s\n",
      "[CV 2/5] END ..gamma=200, min_child_weight=6, reg_lambda=100; total time=   3.9s\n",
      "[CV 3/5] END ..gamma=200, min_child_weight=6, reg_lambda=100; total time=   3.6s\n",
      "[CV 4/5] END ..gamma=200, min_child_weight=6, reg_lambda=100; total time=   3.7s\n",
      "[CV 5/5] END ..gamma=200, min_child_weight=6, reg_lambda=100; total time=   4.3s\n",
      "[CV 1/5] END ..gamma=200, min_child_weight=6, reg_lambda=200; total time=   3.9s\n",
      "[CV 2/5] END ..gamma=200, min_child_weight=6, reg_lambda=200; total time=   3.4s\n",
      "[CV 3/5] END ..gamma=200, min_child_weight=6, reg_lambda=200; total time=   3.6s\n",
      "[CV 4/5] END ..gamma=200, min_child_weight=6, reg_lambda=200; total time=   3.9s\n",
      "[CV 5/5] END ..gamma=200, min_child_weight=6, reg_lambda=200; total time=   3.7s\n",
      "[CV 1/5] END ..gamma=200, min_child_weight=6, reg_lambda=500; total time=   4.1s\n",
      "[CV 2/5] END ..gamma=200, min_child_weight=6, reg_lambda=500; total time=   4.9s\n",
      "[CV 3/5] END ..gamma=200, min_child_weight=6, reg_lambda=500; total time=   3.9s\n",
      "[CV 4/5] END ..gamma=200, min_child_weight=6, reg_lambda=500; total time=   3.3s\n",
      "[CV 5/5] END ..gamma=200, min_child_weight=6, reg_lambda=500; total time=   3.2s\n"
     ]
    },
    {
     "data": {
      "text/plain": [
       "GridSearchCV(cv=5,\n",
       "             estimator=XGBRegressor(base_score=None, booster=None,\n",
       "                                    colsample_bylevel=None,\n",
       "                                    colsample_bynode=None,\n",
       "                                    colsample_bytree=None, gamma=None,\n",
       "                                    gpu_id=None, importance_type='gain',\n",
       "                                    interaction_constraints=None,\n",
       "                                    learning_rate=None, max_delta_step=None,\n",
       "                                    max_depth=None, min_child_weight=None,\n",
       "                                    missing=nan, monotone_constraints=None,\n",
       "                                    n_estimators=100, n_jobs=None,\n",
       "                                    num_parallel_tree=None, random_state=None,\n",
       "                                    reg_alpha=None, reg_lambda=None,\n",
       "                                    scale_pos_weight=None, subsample=None,\n",
       "                                    tree_method=None, validate_parameters=None,\n",
       "                                    verbosity=None),\n",
       "             param_grid={'gamma': [100, 150, 200],\n",
       "                         'min_child_weight': [4, 5, 6],\n",
       "                         'reg_lambda': [100, 200, 500]},\n",
       "             verbose=3)"
      ]
     },
     "execution_count": 148,
     "metadata": {},
     "output_type": "execute_result"
    }
   ],
   "source": [
    "param_grid = {'reg_lambda': [100,200,500],  \n",
    "              'gamma':[100, 150, 200],\n",
    "              'min_child_weight':[4,5,6]\n",
    "             }\n",
    "grid = GridSearchCV(XGBRegressor(), param_grid, refit = True, verbose = 3, cv=5) \n",
    "grid.fit(x_train,y_train)"
   ]
  },
  {
   "cell_type": "code",
   "execution_count": 149,
   "metadata": {},
   "outputs": [
    {
     "data": {
      "text/plain": [
       "{'gamma': 200, 'min_child_weight': 4, 'reg_lambda': 200}"
      ]
     },
     "execution_count": 149,
     "metadata": {},
     "output_type": "execute_result"
    }
   ],
   "source": [
    "grid.best_params_"
   ]
  },
  {
   "cell_type": "code",
   "execution_count": 150,
   "metadata": {},
   "outputs": [
    {
     "data": {
      "text/plain": [
       "XGBRegressor(base_score=0.5, booster='gbtree', colsample_bylevel=1,\n",
       "             colsample_bynode=1, colsample_bytree=1, gamma=200, gpu_id=-1,\n",
       "             importance_type='gain', interaction_constraints='',\n",
       "             learning_rate=0.300000012, max_delta_step=0, max_depth=6,\n",
       "             min_child_weight=4, missing=nan, monotone_constraints='()',\n",
       "             n_estimators=100, n_jobs=4, num_parallel_tree=1, random_state=0,\n",
       "             reg_alpha=0, reg_lambda=200, scale_pos_weight=1, subsample=1,\n",
       "             tree_method='exact', validate_parameters=1, verbosity=None)"
      ]
     },
     "execution_count": 150,
     "metadata": {},
     "output_type": "execute_result"
    }
   ],
   "source": [
    "grid.best_estimator_"
   ]
  },
  {
   "cell_type": "code",
   "execution_count": 151,
   "metadata": {},
   "outputs": [],
   "source": [
    "xgbModel_final=XGBRegressor(max_depth=4, min_child_weight=4, reg_lambda=100, gamma=150)"
   ]
  },
  {
   "cell_type": "code",
   "execution_count": 152,
   "metadata": {},
   "outputs": [
    {
     "data": {
      "text/plain": [
       "XGBRegressor(base_score=0.5, booster='gbtree', colsample_bylevel=1,\n",
       "             colsample_bynode=1, colsample_bytree=1, gamma=150, gpu_id=-1,\n",
       "             importance_type='gain', interaction_constraints='',\n",
       "             learning_rate=0.300000012, max_delta_step=0, max_depth=4,\n",
       "             min_child_weight=4, missing=nan, monotone_constraints='()',\n",
       "             n_estimators=100, n_jobs=4, num_parallel_tree=1, random_state=0,\n",
       "             reg_alpha=0, reg_lambda=100, scale_pos_weight=1, subsample=1,\n",
       "             tree_method='exact', validate_parameters=1, verbosity=None)"
      ]
     },
     "execution_count": 152,
     "metadata": {},
     "output_type": "execute_result"
    }
   ],
   "source": [
    "xgbModel_final.fit(x_train,y_train)"
   ]
  },
  {
   "cell_type": "code",
   "execution_count": 153,
   "metadata": {},
   "outputs": [
    {
     "data": {
      "text/plain": [
       "0.6560073025973242"
      ]
     },
     "execution_count": 153,
     "metadata": {},
     "output_type": "execute_result"
    }
   ],
   "source": [
    "xgbModel_final.score(x_train,y_train)"
   ]
  },
  {
   "cell_type": "code",
   "execution_count": 154,
   "metadata": {},
   "outputs": [
    {
     "data": {
      "text/plain": [
       "0.5604826109581964"
      ]
     },
     "execution_count": 154,
     "metadata": {},
     "output_type": "execute_result"
    }
   ],
   "source": [
    "xgbModel_final.score(x_test,y_test)"
   ]
  },
  {
   "cell_type": "code",
   "execution_count": 155,
   "metadata": {},
   "outputs": [],
   "source": [
    "xgb_feature_imp=(pd.DataFrame(xgbModel_final.feature_importances_,index=x_pca.columns))"
   ]
  },
  {
   "cell_type": "code",
   "execution_count": 156,
   "metadata": {},
   "outputs": [
    {
     "data": {
      "text/html": [
       "<div>\n",
       "<style scoped>\n",
       "    .dataframe tbody tr th:only-of-type {\n",
       "        vertical-align: middle;\n",
       "    }\n",
       "\n",
       "    .dataframe tbody tr th {\n",
       "        vertical-align: top;\n",
       "    }\n",
       "\n",
       "    .dataframe thead th {\n",
       "        text-align: right;\n",
       "    }\n",
       "</style>\n",
       "<table border=\"1\" class=\"dataframe\">\n",
       "  <thead>\n",
       "    <tr style=\"text-align: right;\">\n",
       "      <th></th>\n",
       "      <th>0</th>\n",
       "    </tr>\n",
       "  </thead>\n",
       "  <tbody>\n",
       "    <tr>\n",
       "      <td>X192</td>\n",
       "      <td>0.000000</td>\n",
       "    </tr>\n",
       "    <tr>\n",
       "      <td>X252</td>\n",
       "      <td>0.000000</td>\n",
       "    </tr>\n",
       "    <tr>\n",
       "      <td>X251</td>\n",
       "      <td>0.000000</td>\n",
       "    </tr>\n",
       "    <tr>\n",
       "      <td>X249</td>\n",
       "      <td>0.000000</td>\n",
       "    </tr>\n",
       "    <tr>\n",
       "      <td>X248</td>\n",
       "      <td>0.000000</td>\n",
       "    </tr>\n",
       "    <tr>\n",
       "      <td>...</td>\n",
       "      <td>...</td>\n",
       "    </tr>\n",
       "    <tr>\n",
       "      <td>X276</td>\n",
       "      <td>0.011642</td>\n",
       "    </tr>\n",
       "    <tr>\n",
       "      <td>X118</td>\n",
       "      <td>0.075097</td>\n",
       "    </tr>\n",
       "    <tr>\n",
       "      <td>X127</td>\n",
       "      <td>0.116549</td>\n",
       "    </tr>\n",
       "    <tr>\n",
       "      <td>X29</td>\n",
       "      <td>0.229968</td>\n",
       "    </tr>\n",
       "    <tr>\n",
       "      <td>X314</td>\n",
       "      <td>0.349034</td>\n",
       "    </tr>\n",
       "  </tbody>\n",
       "</table>\n",
       "<p>362 rows × 1 columns</p>\n",
       "</div>"
      ],
      "text/plain": [
       "             0\n",
       "X192  0.000000\n",
       "X252  0.000000\n",
       "X251  0.000000\n",
       "X249  0.000000\n",
       "X248  0.000000\n",
       "...        ...\n",
       "X276  0.011642\n",
       "X118  0.075097\n",
       "X127  0.116549\n",
       "X29   0.229968\n",
       "X314  0.349034\n",
       "\n",
       "[362 rows x 1 columns]"
      ]
     },
     "execution_count": 156,
     "metadata": {},
     "output_type": "execute_result"
    }
   ],
   "source": [
    "xgb_feature_imp.sort_values(by=0)#,ascending=False)"
   ]
  },
  {
   "cell_type": "markdown",
   "metadata": {},
   "source": [
    "Important observation here is, Feature importance is 0 for 311 features."
   ]
  },
  {
   "cell_type": "markdown",
   "metadata": {},
   "source": [
    "## Predicting outcome on test data"
   ]
  },
  {
   "cell_type": "code",
   "execution_count": 158,
   "metadata": {},
   "outputs": [],
   "source": [
    "merc_test = pd.read_csv('./Dataset for the project/test.csv')"
   ]
  },
  {
   "cell_type": "code",
   "execution_count": 159,
   "metadata": {},
   "outputs": [
    {
     "data": {
      "text/html": [
       "<div>\n",
       "<style scoped>\n",
       "    .dataframe tbody tr th:only-of-type {\n",
       "        vertical-align: middle;\n",
       "    }\n",
       "\n",
       "    .dataframe tbody tr th {\n",
       "        vertical-align: top;\n",
       "    }\n",
       "\n",
       "    .dataframe thead th {\n",
       "        text-align: right;\n",
       "    }\n",
       "</style>\n",
       "<table border=\"1\" class=\"dataframe\">\n",
       "  <thead>\n",
       "    <tr style=\"text-align: right;\">\n",
       "      <th></th>\n",
       "      <th>ID</th>\n",
       "      <th>X0</th>\n",
       "      <th>X1</th>\n",
       "      <th>X2</th>\n",
       "      <th>X3</th>\n",
       "      <th>X4</th>\n",
       "      <th>X5</th>\n",
       "      <th>X6</th>\n",
       "      <th>X8</th>\n",
       "      <th>X10</th>\n",
       "      <th>...</th>\n",
       "      <th>X375</th>\n",
       "      <th>X376</th>\n",
       "      <th>X377</th>\n",
       "      <th>X378</th>\n",
       "      <th>X379</th>\n",
       "      <th>X380</th>\n",
       "      <th>X382</th>\n",
       "      <th>X383</th>\n",
       "      <th>X384</th>\n",
       "      <th>X385</th>\n",
       "    </tr>\n",
       "  </thead>\n",
       "  <tbody>\n",
       "    <tr>\n",
       "      <td>0</td>\n",
       "      <td>1</td>\n",
       "      <td>az</td>\n",
       "      <td>v</td>\n",
       "      <td>n</td>\n",
       "      <td>f</td>\n",
       "      <td>d</td>\n",
       "      <td>t</td>\n",
       "      <td>a</td>\n",
       "      <td>w</td>\n",
       "      <td>0</td>\n",
       "      <td>...</td>\n",
       "      <td>0</td>\n",
       "      <td>0</td>\n",
       "      <td>0</td>\n",
       "      <td>1</td>\n",
       "      <td>0</td>\n",
       "      <td>0</td>\n",
       "      <td>0</td>\n",
       "      <td>0</td>\n",
       "      <td>0</td>\n",
       "      <td>0</td>\n",
       "    </tr>\n",
       "    <tr>\n",
       "      <td>1</td>\n",
       "      <td>2</td>\n",
       "      <td>t</td>\n",
       "      <td>b</td>\n",
       "      <td>ai</td>\n",
       "      <td>a</td>\n",
       "      <td>d</td>\n",
       "      <td>b</td>\n",
       "      <td>g</td>\n",
       "      <td>y</td>\n",
       "      <td>0</td>\n",
       "      <td>...</td>\n",
       "      <td>0</td>\n",
       "      <td>0</td>\n",
       "      <td>1</td>\n",
       "      <td>0</td>\n",
       "      <td>0</td>\n",
       "      <td>0</td>\n",
       "      <td>0</td>\n",
       "      <td>0</td>\n",
       "      <td>0</td>\n",
       "      <td>0</td>\n",
       "    </tr>\n",
       "    <tr>\n",
       "      <td>2</td>\n",
       "      <td>3</td>\n",
       "      <td>az</td>\n",
       "      <td>v</td>\n",
       "      <td>as</td>\n",
       "      <td>f</td>\n",
       "      <td>d</td>\n",
       "      <td>a</td>\n",
       "      <td>j</td>\n",
       "      <td>j</td>\n",
       "      <td>0</td>\n",
       "      <td>...</td>\n",
       "      <td>0</td>\n",
       "      <td>0</td>\n",
       "      <td>0</td>\n",
       "      <td>1</td>\n",
       "      <td>0</td>\n",
       "      <td>0</td>\n",
       "      <td>0</td>\n",
       "      <td>0</td>\n",
       "      <td>0</td>\n",
       "      <td>0</td>\n",
       "    </tr>\n",
       "    <tr>\n",
       "      <td>3</td>\n",
       "      <td>4</td>\n",
       "      <td>az</td>\n",
       "      <td>l</td>\n",
       "      <td>n</td>\n",
       "      <td>f</td>\n",
       "      <td>d</td>\n",
       "      <td>z</td>\n",
       "      <td>l</td>\n",
       "      <td>n</td>\n",
       "      <td>0</td>\n",
       "      <td>...</td>\n",
       "      <td>0</td>\n",
       "      <td>0</td>\n",
       "      <td>0</td>\n",
       "      <td>1</td>\n",
       "      <td>0</td>\n",
       "      <td>0</td>\n",
       "      <td>0</td>\n",
       "      <td>0</td>\n",
       "      <td>0</td>\n",
       "      <td>0</td>\n",
       "    </tr>\n",
       "    <tr>\n",
       "      <td>4</td>\n",
       "      <td>5</td>\n",
       "      <td>w</td>\n",
       "      <td>s</td>\n",
       "      <td>as</td>\n",
       "      <td>c</td>\n",
       "      <td>d</td>\n",
       "      <td>y</td>\n",
       "      <td>i</td>\n",
       "      <td>m</td>\n",
       "      <td>0</td>\n",
       "      <td>...</td>\n",
       "      <td>1</td>\n",
       "      <td>0</td>\n",
       "      <td>0</td>\n",
       "      <td>0</td>\n",
       "      <td>0</td>\n",
       "      <td>0</td>\n",
       "      <td>0</td>\n",
       "      <td>0</td>\n",
       "      <td>0</td>\n",
       "      <td>0</td>\n",
       "    </tr>\n",
       "  </tbody>\n",
       "</table>\n",
       "<p>5 rows × 377 columns</p>\n",
       "</div>"
      ],
      "text/plain": [
       "   ID  X0 X1  X2 X3 X4 X5 X6 X8  X10  ...  X375  X376  X377  X378  X379  X380  \\\n",
       "0   1  az  v   n  f  d  t  a  w    0  ...     0     0     0     1     0     0   \n",
       "1   2   t  b  ai  a  d  b  g  y    0  ...     0     0     1     0     0     0   \n",
       "2   3  az  v  as  f  d  a  j  j    0  ...     0     0     0     1     0     0   \n",
       "3   4  az  l   n  f  d  z  l  n    0  ...     0     0     0     1     0     0   \n",
       "4   5   w  s  as  c  d  y  i  m    0  ...     1     0     0     0     0     0   \n",
       "\n",
       "   X382  X383  X384  X385  \n",
       "0     0     0     0     0  \n",
       "1     0     0     0     0  \n",
       "2     0     0     0     0  \n",
       "3     0     0     0     0  \n",
       "4     0     0     0     0  \n",
       "\n",
       "[5 rows x 377 columns]"
      ]
     },
     "execution_count": 159,
     "metadata": {},
     "output_type": "execute_result"
    }
   ],
   "source": [
    "merc_test.head()"
   ]
  },
  {
   "cell_type": "code",
   "execution_count": 160,
   "metadata": {},
   "outputs": [
    {
     "data": {
      "text/plain": [
       "['X257', 'X258', 'X295', 'X296', 'X369']"
      ]
     },
     "execution_count": 160,
     "metadata": {},
     "output_type": "execute_result"
    }
   ],
   "source": [
    "var_zero_cols(merc_test)"
   ]
  },
  {
   "cell_type": "markdown",
   "metadata": {},
   "source": [
    "#### Dropping zero variance features of training set, from test set, as the above model is not trained on those features"
   ]
  },
  {
   "cell_type": "code",
   "execution_count": 161,
   "metadata": {},
   "outputs": [],
   "source": [
    "merc_test.drop(columns=['X297', 'X11', 'X290', 'X293', 'X268', 'X233', 'X93', 'X289', 'X235', 'X107', 'X330', 'X347'],inplace=True)"
   ]
  },
  {
   "cell_type": "code",
   "execution_count": 162,
   "metadata": {},
   "outputs": [],
   "source": [
    "transform_X0(merc_test)\n",
    "transform_X4(merc_test)\n",
    "transform_X1(merc_test)\n",
    "transform_X5(merc_test)"
   ]
  },
  {
   "cell_type": "code",
   "execution_count": 163,
   "metadata": {},
   "outputs": [],
   "source": [
    "x=merc_test.drop(columns=['ID'])"
   ]
  },
  {
   "cell_type": "code",
   "execution_count": 164,
   "metadata": {},
   "outputs": [],
   "source": [
    "transform_labels(merc_test,x)"
   ]
  },
  {
   "cell_type": "code",
   "execution_count": 165,
   "metadata": {},
   "outputs": [
    {
     "data": {
      "text/html": [
       "<div>\n",
       "<style scoped>\n",
       "    .dataframe tbody tr th:only-of-type {\n",
       "        vertical-align: middle;\n",
       "    }\n",
       "\n",
       "    .dataframe tbody tr th {\n",
       "        vertical-align: top;\n",
       "    }\n",
       "\n",
       "    .dataframe thead th {\n",
       "        text-align: right;\n",
       "    }\n",
       "</style>\n",
       "<table border=\"1\" class=\"dataframe\">\n",
       "  <thead>\n",
       "    <tr style=\"text-align: right;\">\n",
       "      <th></th>\n",
       "      <th>X0</th>\n",
       "      <th>X1</th>\n",
       "      <th>X2</th>\n",
       "      <th>X3</th>\n",
       "      <th>X4</th>\n",
       "      <th>X5</th>\n",
       "      <th>X6</th>\n",
       "      <th>X8</th>\n",
       "      <th>X10</th>\n",
       "      <th>X12</th>\n",
       "      <th>...</th>\n",
       "      <th>X375</th>\n",
       "      <th>X376</th>\n",
       "      <th>X377</th>\n",
       "      <th>X378</th>\n",
       "      <th>X379</th>\n",
       "      <th>X380</th>\n",
       "      <th>X382</th>\n",
       "      <th>X383</th>\n",
       "      <th>X384</th>\n",
       "      <th>X385</th>\n",
       "    </tr>\n",
       "  </thead>\n",
       "  <tbody>\n",
       "    <tr>\n",
       "      <td>0</td>\n",
       "      <td>5</td>\n",
       "      <td>9</td>\n",
       "      <td>34</td>\n",
       "      <td>5</td>\n",
       "      <td>0</td>\n",
       "      <td>0</td>\n",
       "      <td>0</td>\n",
       "      <td>22</td>\n",
       "      <td>0</td>\n",
       "      <td>0</td>\n",
       "      <td>...</td>\n",
       "      <td>0</td>\n",
       "      <td>0</td>\n",
       "      <td>0</td>\n",
       "      <td>1</td>\n",
       "      <td>0</td>\n",
       "      <td>0</td>\n",
       "      <td>0</td>\n",
       "      <td>0</td>\n",
       "      <td>0</td>\n",
       "      <td>0</td>\n",
       "    </tr>\n",
       "    <tr>\n",
       "      <td>1</td>\n",
       "      <td>11</td>\n",
       "      <td>3</td>\n",
       "      <td>8</td>\n",
       "      <td>0</td>\n",
       "      <td>0</td>\n",
       "      <td>0</td>\n",
       "      <td>6</td>\n",
       "      <td>24</td>\n",
       "      <td>0</td>\n",
       "      <td>0</td>\n",
       "      <td>...</td>\n",
       "      <td>0</td>\n",
       "      <td>0</td>\n",
       "      <td>1</td>\n",
       "      <td>0</td>\n",
       "      <td>0</td>\n",
       "      <td>0</td>\n",
       "      <td>0</td>\n",
       "      <td>0</td>\n",
       "      <td>0</td>\n",
       "      <td>0</td>\n",
       "    </tr>\n",
       "    <tr>\n",
       "      <td>2</td>\n",
       "      <td>5</td>\n",
       "      <td>9</td>\n",
       "      <td>17</td>\n",
       "      <td>5</td>\n",
       "      <td>0</td>\n",
       "      <td>0</td>\n",
       "      <td>9</td>\n",
       "      <td>9</td>\n",
       "      <td>0</td>\n",
       "      <td>0</td>\n",
       "      <td>...</td>\n",
       "      <td>0</td>\n",
       "      <td>0</td>\n",
       "      <td>0</td>\n",
       "      <td>1</td>\n",
       "      <td>0</td>\n",
       "      <td>0</td>\n",
       "      <td>0</td>\n",
       "      <td>0</td>\n",
       "      <td>0</td>\n",
       "      <td>0</td>\n",
       "    </tr>\n",
       "    <tr>\n",
       "      <td>3</td>\n",
       "      <td>5</td>\n",
       "      <td>6</td>\n",
       "      <td>34</td>\n",
       "      <td>5</td>\n",
       "      <td>0</td>\n",
       "      <td>0</td>\n",
       "      <td>11</td>\n",
       "      <td>13</td>\n",
       "      <td>0</td>\n",
       "      <td>0</td>\n",
       "      <td>...</td>\n",
       "      <td>0</td>\n",
       "      <td>0</td>\n",
       "      <td>0</td>\n",
       "      <td>1</td>\n",
       "      <td>0</td>\n",
       "      <td>0</td>\n",
       "      <td>0</td>\n",
       "      <td>0</td>\n",
       "      <td>0</td>\n",
       "      <td>0</td>\n",
       "    </tr>\n",
       "    <tr>\n",
       "      <td>4</td>\n",
       "      <td>12</td>\n",
       "      <td>8</td>\n",
       "      <td>17</td>\n",
       "      <td>2</td>\n",
       "      <td>0</td>\n",
       "      <td>0</td>\n",
       "      <td>8</td>\n",
       "      <td>12</td>\n",
       "      <td>0</td>\n",
       "      <td>0</td>\n",
       "      <td>...</td>\n",
       "      <td>1</td>\n",
       "      <td>0</td>\n",
       "      <td>0</td>\n",
       "      <td>0</td>\n",
       "      <td>0</td>\n",
       "      <td>0</td>\n",
       "      <td>0</td>\n",
       "      <td>0</td>\n",
       "      <td>0</td>\n",
       "      <td>0</td>\n",
       "    </tr>\n",
       "  </tbody>\n",
       "</table>\n",
       "<p>5 rows × 364 columns</p>\n",
       "</div>"
      ],
      "text/plain": [
       "   X0  X1  X2  X3  X4  X5  X6  X8  X10  X12  ...  X375  X376  X377  X378  \\\n",
       "0   5   9  34   5   0   0   0  22    0    0  ...     0     0     0     1   \n",
       "1  11   3   8   0   0   0   6  24    0    0  ...     0     0     1     0   \n",
       "2   5   9  17   5   0   0   9   9    0    0  ...     0     0     0     1   \n",
       "3   5   6  34   5   0   0  11  13    0    0  ...     0     0     0     1   \n",
       "4  12   8  17   2   0   0   8  12    0    0  ...     1     0     0     0   \n",
       "\n",
       "   X379  X380  X382  X383  X384  X385  \n",
       "0     0     0     0     0     0     0  \n",
       "1     0     0     0     0     0     0  \n",
       "2     0     0     0     0     0     0  \n",
       "3     0     0     0     0     0     0  \n",
       "4     0     0     0     0     0     0  \n",
       "\n",
       "[5 rows x 364 columns]"
      ]
     },
     "execution_count": 165,
     "metadata": {},
     "output_type": "execute_result"
    }
   ],
   "source": [
    "x.head()"
   ]
  },
  {
   "cell_type": "code",
   "execution_count": 166,
   "metadata": {},
   "outputs": [],
   "source": [
    "x_pca_t=perform_pca(merc_test,x)"
   ]
  },
  {
   "cell_type": "code",
   "execution_count": 167,
   "metadata": {},
   "outputs": [
    {
     "data": {
      "text/plain": [
       "(4209, 362)"
      ]
     },
     "execution_count": 167,
     "metadata": {},
     "output_type": "execute_result"
    }
   ],
   "source": [
    "x_pca_t.shape"
   ]
  },
  {
   "cell_type": "code",
   "execution_count": 168,
   "metadata": {},
   "outputs": [],
   "source": [
    "merc_test_pred=pd.DataFrame(xgbModel_final.predict(x_pca_t),columns=['y'])"
   ]
  },
  {
   "cell_type": "code",
   "execution_count": 169,
   "metadata": {},
   "outputs": [],
   "source": [
    "merc_test_pred['ID']=merc_test.ID"
   ]
  },
  {
   "cell_type": "code",
   "execution_count": 170,
   "metadata": {},
   "outputs": [
    {
     "data": {
      "text/html": [
       "<div>\n",
       "<style scoped>\n",
       "    .dataframe tbody tr th:only-of-type {\n",
       "        vertical-align: middle;\n",
       "    }\n",
       "\n",
       "    .dataframe tbody tr th {\n",
       "        vertical-align: top;\n",
       "    }\n",
       "\n",
       "    .dataframe thead th {\n",
       "        text-align: right;\n",
       "    }\n",
       "</style>\n",
       "<table border=\"1\" class=\"dataframe\">\n",
       "  <thead>\n",
       "    <tr style=\"text-align: right;\">\n",
       "      <th></th>\n",
       "      <th>y</th>\n",
       "      <th>ID</th>\n",
       "    </tr>\n",
       "  </thead>\n",
       "  <tbody>\n",
       "    <tr>\n",
       "      <td>4199</td>\n",
       "      <td>90.943039</td>\n",
       "      <td>8401</td>\n",
       "    </tr>\n",
       "    <tr>\n",
       "      <td>4200</td>\n",
       "      <td>92.710258</td>\n",
       "      <td>8404</td>\n",
       "    </tr>\n",
       "    <tr>\n",
       "      <td>4201</td>\n",
       "      <td>95.110573</td>\n",
       "      <td>8407</td>\n",
       "    </tr>\n",
       "    <tr>\n",
       "      <td>4202</td>\n",
       "      <td>112.974937</td>\n",
       "      <td>8408</td>\n",
       "    </tr>\n",
       "    <tr>\n",
       "      <td>4203</td>\n",
       "      <td>110.726929</td>\n",
       "      <td>8409</td>\n",
       "    </tr>\n",
       "    <tr>\n",
       "      <td>4204</td>\n",
       "      <td>104.527763</td>\n",
       "      <td>8410</td>\n",
       "    </tr>\n",
       "    <tr>\n",
       "      <td>4205</td>\n",
       "      <td>91.629471</td>\n",
       "      <td>8411</td>\n",
       "    </tr>\n",
       "    <tr>\n",
       "      <td>4206</td>\n",
       "      <td>91.228050</td>\n",
       "      <td>8413</td>\n",
       "    </tr>\n",
       "    <tr>\n",
       "      <td>4207</td>\n",
       "      <td>113.062805</td>\n",
       "      <td>8414</td>\n",
       "    </tr>\n",
       "    <tr>\n",
       "      <td>4208</td>\n",
       "      <td>91.553360</td>\n",
       "      <td>8416</td>\n",
       "    </tr>\n",
       "  </tbody>\n",
       "</table>\n",
       "</div>"
      ],
      "text/plain": [
       "               y    ID\n",
       "4199   90.943039  8401\n",
       "4200   92.710258  8404\n",
       "4201   95.110573  8407\n",
       "4202  112.974937  8408\n",
       "4203  110.726929  8409\n",
       "4204  104.527763  8410\n",
       "4205   91.629471  8411\n",
       "4206   91.228050  8413\n",
       "4207  113.062805  8414\n",
       "4208   91.553360  8416"
      ]
     },
     "execution_count": 170,
     "metadata": {},
     "output_type": "execute_result"
    }
   ],
   "source": [
    "merc_test_pred.tail(10)"
   ]
  },
  {
   "cell_type": "code",
   "execution_count": 171,
   "metadata": {},
   "outputs": [
    {
     "data": {
      "text/html": [
       "<div>\n",
       "<style scoped>\n",
       "    .dataframe tbody tr th:only-of-type {\n",
       "        vertical-align: middle;\n",
       "    }\n",
       "\n",
       "    .dataframe tbody tr th {\n",
       "        vertical-align: top;\n",
       "    }\n",
       "\n",
       "    .dataframe thead th {\n",
       "        text-align: right;\n",
       "    }\n",
       "</style>\n",
       "<table border=\"1\" class=\"dataframe\">\n",
       "  <thead>\n",
       "    <tr style=\"text-align: right;\">\n",
       "      <th></th>\n",
       "      <th>y</th>\n",
       "      <th>ID</th>\n",
       "    </tr>\n",
       "  </thead>\n",
       "  <tbody>\n",
       "    <tr>\n",
       "      <td>0</td>\n",
       "      <td>77.738129</td>\n",
       "      <td>1</td>\n",
       "    </tr>\n",
       "    <tr>\n",
       "      <td>1</td>\n",
       "      <td>91.810814</td>\n",
       "      <td>2</td>\n",
       "    </tr>\n",
       "    <tr>\n",
       "      <td>2</td>\n",
       "      <td>78.489426</td>\n",
       "      <td>3</td>\n",
       "    </tr>\n",
       "    <tr>\n",
       "      <td>3</td>\n",
       "      <td>77.821465</td>\n",
       "      <td>4</td>\n",
       "    </tr>\n",
       "    <tr>\n",
       "      <td>4</td>\n",
       "      <td>112.510063</td>\n",
       "      <td>5</td>\n",
       "    </tr>\n",
       "    <tr>\n",
       "      <td>...</td>\n",
       "      <td>...</td>\n",
       "      <td>...</td>\n",
       "    </tr>\n",
       "    <tr>\n",
       "      <td>4204</td>\n",
       "      <td>104.527763</td>\n",
       "      <td>8410</td>\n",
       "    </tr>\n",
       "    <tr>\n",
       "      <td>4205</td>\n",
       "      <td>91.629471</td>\n",
       "      <td>8411</td>\n",
       "    </tr>\n",
       "    <tr>\n",
       "      <td>4206</td>\n",
       "      <td>91.228050</td>\n",
       "      <td>8413</td>\n",
       "    </tr>\n",
       "    <tr>\n",
       "      <td>4207</td>\n",
       "      <td>113.062805</td>\n",
       "      <td>8414</td>\n",
       "    </tr>\n",
       "    <tr>\n",
       "      <td>4208</td>\n",
       "      <td>91.553360</td>\n",
       "      <td>8416</td>\n",
       "    </tr>\n",
       "  </tbody>\n",
       "</table>\n",
       "<p>4209 rows × 2 columns</p>\n",
       "</div>"
      ],
      "text/plain": [
       "               y    ID\n",
       "0      77.738129     1\n",
       "1      91.810814     2\n",
       "2      78.489426     3\n",
       "3      77.821465     4\n",
       "4     112.510063     5\n",
       "...          ...   ...\n",
       "4204  104.527763  8410\n",
       "4205   91.629471  8411\n",
       "4206   91.228050  8413\n",
       "4207  113.062805  8414\n",
       "4208   91.553360  8416\n",
       "\n",
       "[4209 rows x 2 columns]"
      ]
     },
     "execution_count": 171,
     "metadata": {},
     "output_type": "execute_result"
    }
   ],
   "source": [
    "merc_test_pred"
   ]
  },
  {
   "cell_type": "code",
   "execution_count": null,
   "metadata": {},
   "outputs": [],
   "source": []
  }
 ],
 "metadata": {
  "kernelspec": {
   "display_name": "Python 3",
   "language": "python",
   "name": "python3"
  },
  "language_info": {
   "codemirror_mode": {
    "name": "ipython",
    "version": 3
   },
   "file_extension": ".py",
   "mimetype": "text/x-python",
   "name": "python",
   "nbconvert_exporter": "python",
   "pygments_lexer": "ipython3",
   "version": "3.7.4"
  }
 },
 "nbformat": 4,
 "nbformat_minor": 2
}
